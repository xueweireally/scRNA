{
 "cells": [
  {
   "attachments": {},
   "cell_type": "markdown",
   "id": "fd07b622",
   "metadata": {},
   "source": [
    "# Preprocessing and clustering"
   ]
  },
  {
   "attachments": {},
   "cell_type": "markdown",
   "id": "a8a6b403",
   "metadata": {},
   "source": [
    "## Loading import"
   ]
  },
  {
   "cell_type": "code",
   "execution_count": 1,
   "id": "be36b048",
   "metadata": {
    "ExecuteTime": {
     "end_time": "2022-04-23T09:27:36.981877Z",
     "start_time": "2022-04-23T09:27:33.317866Z"
    }
   },
   "outputs": [],
   "source": [
    "import numpy as np\n",
    "import pandas as pd\n",
    "import scanpy as sc\n",
    "import scanpy.external as sce\n",
    "import anndata as ad\n",
    "import gzip\n",
    "import shutil\n",
    "from scipy import sparse\n",
    "import os\n",
    "from anndata.experimental.multi_files import AnnCollection\n",
    "from matplotlib.pyplot import rc_context\n",
    "# import seaborn as sns\n",
    "# import matplotlib.pyplot as plt\n",
    "\n",
    "# %matplotlib inline\n",
    "import scrublet as scr\n",
    "import scipy.io\n",
    "import matplotlib.pyplot as plt\n",
    "\n",
    "plt.rcParams['font.family'] = 'sans-serif'\n",
    "plt.rcParams['font.sans-serif'] = 'Arial'\n",
    "plt.rc('font', size=14)\n",
    "plt.rcParams['pdf.fonttype'] = 42"
   ]
  },
  {
   "cell_type": "code",
   "execution_count": 2,
   "id": "1ccd8f8e",
   "metadata": {},
   "outputs": [
    {
     "name": "stdout",
     "output_type": "stream",
     "text": [
      "scanpy==1.9.1 anndata==0.8.0 umap==0.5.3 numpy==1.21.5 scipy==1.9.1 pandas==1.4.4 scikit-learn==1.1.1 statsmodels==0.13.2 python-igraph==0.9.10 louvain==0.7.1 pynndescent==0.5.4\n"
     ]
    }
   ],
   "source": [
    "sc.settings.verbosity = 3\n",
    "sc.logging.print_header()\n",
    "sc.settings.set_figure_params(dpi=120, frameon=False, figsize=(3, 3), facecolor='white')"
   ]
  },
  {
   "cell_type": "code",
   "execution_count": 3,
   "id": "65fd67df",
   "metadata": {},
   "outputs": [],
   "source": [
    "pd.set_option('display.max_rows', 10)\n",
    "pd.set_option('display.max_columns', None)"
   ]
  },
  {
   "attachments": {},
   "cell_type": "markdown",
   "id": "53b3f562",
   "metadata": {
    "ExecuteTime": {
     "end_time": "2022-04-23T01:33:48.148814Z",
     "start_time": "2022-04-23T01:33:48.145307Z"
    }
   },
   "source": [
    "## Input data"
   ]
  },
  {
   "cell_type": "code",
   "execution_count": 4,
   "id": "6300c9cf",
   "metadata": {},
   "outputs": [],
   "source": [
    "# !mkdir write\n",
    "# !mkdir tables"
   ]
  },
  {
   "cell_type": "code",
   "execution_count": 5,
   "id": "92eccb80",
   "metadata": {},
   "outputs": [],
   "source": [
    "wdir = \"/Users/xuewei/ZxProjects/CRC/2023_GSE231559/01_preprocessing/01_clustering_scrublet_231117/\"\n",
    "os.chdir( wdir )"
   ]
  },
  {
   "cell_type": "markdown",
   "metadata": {},
   "source": [
    "### adata_Colon_Normal_1"
   ]
  },
  {
   "cell_type": "code",
   "execution_count": 45,
   "metadata": {},
   "outputs": [],
   "source": [
    "# input_dir = '/Users/xuewei/ZxProjects/CRC/2023_GSE231559/00_backup/GSE231559_RAW/C1N/'\n",
    "# counts_matrix = scipy.io.mmread(input_dir + '/matrix.mtx.gz').T.tocsc()\n",
    "# genes = np.array(scr.load_genes(input_dir + '/features.tsv', delimiter='\\t', column=1))\n",
    "# out_df = pd.read_csv(input_dir + '/barcodes.tsv.gz', header = None, index_col=None, names=['barcode'])\n",
    "\n",
    "# print('Counts matrix shape: {} rows, {} columns'.format(counts_matrix.shape[0], counts_matrix.shape[1]))\n",
    "# print('Number of genes in gene list: {}'.format(len(genes)))        "
   ]
  },
  {
   "cell_type": "code",
   "execution_count": 9,
   "metadata": {},
   "outputs": [
    {
     "name": "stdout",
     "output_type": "stream",
     "text": [
      "Counts matrix shape: 6132 rows, 33538 columns\n",
      "Number of genes in gene list: 33538\n",
      "Preprocessing...\n",
      "Simulating doublets...\n",
      "Embedding transcriptomes using PCA...\n",
      "Calculating doublet scores...\n",
      "Automatically set threshold at doublet score = 0.61\n",
      "Detected doublet rate = 0.0%\n",
      "Estimated detectable doublet fraction = 0.3%\n",
      "Overall doublet rate:\n",
      "\tExpected   = 6.0%\n",
      "\tEstimated  = 6.5%\n",
      "Elapsed time: 4.9 seconds\n"
     ]
    }
   ],
   "source": [
    "# 1. input_dir\n",
    "input_dir = '/Users/xuewei/ZxProjects/CRC/2023_GSE231559/00_backup/GSE231559_RAW/C1N/'\n",
    "\n",
    "# 2. input\n",
    "counts_matrix = scipy.io.mmread(input_dir + '/matrix.mtx.gz').T.tocsc()\n",
    "\n",
    "# genes = np.array(scr.load_genes(input_dir + '/features.tsv', delimiter='\\t', column=1))\n",
    "gz_file = input_dir + '/features.tsv.gz'\n",
    "decompressed_file = input_dir + '/features.tsv'\n",
    "with gzip.open(gz_file, 'rb') as f_in:\n",
    "    with open(decompressed_file, 'wb') as f_out:\n",
    "        shutil.copyfileobj(f_in, f_out)\n",
    "genes = np.array(scr.load_genes(decompressed_file, delimiter='\\t', column=1))\n",
    "os.remove(decompressed_file)\n",
    "\n",
    "out_df = pd.read_csv(input_dir + '/barcodes.tsv.gz', header = None, index_col=None, names=['barcode'])\n",
    "\n",
    "print('Counts matrix shape: {} rows, {} columns'.format(counts_matrix.shape[0], counts_matrix.shape[1]))\n",
    "print('Number of genes in gene list: {}'.format(len(genes)))\n",
    "\n",
    "# 3. Scrublet\n",
    "scrub = scr.Scrublet(counts_matrix, expected_doublet_rate=0.06)\n",
    "doublet_scores, predicted_doublets = scrub.scrub_doublets(min_counts=2, \n",
    "                                                          min_cells=3, \n",
    "                                                          min_gene_variability_pctl=85, \n",
    "                                                          n_prin_comps=30)\n",
    "# scrub.plot_histogram();\n",
    "\n",
    "# # 4. Runding UMAP\n",
    "# print('Running UMAP...')\n",
    "# scrub.set_embedding('UMAP', scr.get_umap(scrub.manifold_obs_, 10, min_dist=0.3))\n",
    "\n",
    "# # # Uncomment to run tSNE - slow\n",
    "# # print('Running tSNE...')\n",
    "# # scrub.set_embedding('tSNE', scr.get_tsne(scrub.manifold_obs_, angle=0.9))\n",
    "\n",
    "# # # Uncomment to run force layout - slow\n",
    "# # print('Running ForceAtlas2...')\n",
    "# # scrub.set_embedding('FA', scr.get_force_layout(scrub.manifold_obs_, n_neighbors=5. n_iter=1000))\n",
    "    \n",
    "# print('Done.')\n",
    "\n",
    "# scrub.plot_embedding('UMAP', order_points=True);\n",
    "\n",
    "# # scrub.plot_embedding('tSNE', order_points=True);\n",
    "# # scrub.plot_embedding('FA', order_points=True);\n",
    "\n",
    "\n",
    "# 5. save doublet.txt\n",
    "scrub.detected_doublet_rate_\n",
    "\n",
    "out_df['doublet_scores'] = doublet_scores\n",
    "out_df['predicted_doublets'] = predicted_doublets\n",
    "out_df.to_csv(input_dir + '/doublet.txt', index=False,header=True)\n",
    "# out_df.head()"
   ]
  },
  {
   "cell_type": "code",
   "execution_count": 10,
   "id": "720dc5b2",
   "metadata": {},
   "outputs": [
    {
     "name": "stdout",
     "output_type": "stream",
     "text": [
      "--> This might be very slow. Consider passing `cache=True`, which enables much faster reading from a cache file.\n"
     ]
    },
    {
     "data": {
      "text/plain": [
       "AnnData object with n_obs × n_vars = 6132 × 33538\n",
       "    var: 'gene_ids', 'feature_types'"
      ]
     },
     "execution_count": 10,
     "metadata": {},
     "output_type": "execute_result"
    }
   ],
   "source": [
    "adata_Colon_Normal_1 = sc.read_10x_mtx(\n",
    "    '/Users/xuewei/ZxProjects/CRC/2023_GSE231559/00_backup/GSE231559_RAW/C1N/',  # the directory with the `.mtx` file\n",
    "    var_names='gene_symbols',                # use gene symbols for the variable names (variables-axis index)\n",
    "    cache=False)                              # write a cache file for faster subsequent reading\n",
    "\n",
    "adata_Colon_Normal_1.var_names_make_unique()  # this is unnecessary if using `var_names='gene_ids'` in `sc.read_10x_mtx`\n",
    "adata_Colon_Normal_1\n",
    "# adata.var[\"gene_ids\"]\n",
    "# adata.var[\"feature_types\"]\n",
    "# adata.to_df()\n",
    "# type(adata.var[\"gene_ids\"])\n",
    "\n",
    "# adata_NAG1.write(results_file)"
   ]
  },
  {
   "cell_type": "code",
   "execution_count": 11,
   "metadata": {},
   "outputs": [],
   "source": [
    "doublet_data = pd.read_csv(input_dir + 'doublet.txt', header=0, index_col=0)"
   ]
  },
  {
   "cell_type": "code",
   "execution_count": 13,
   "metadata": {},
   "outputs": [
    {
     "data": {
      "text/plain": [
       "View of AnnData object with n_obs × n_vars = 6131 × 33538\n",
       "    obs: 'doublet_scores', 'predicted_doublets'\n",
       "    var: 'gene_ids', 'feature_types'"
      ]
     },
     "execution_count": 13,
     "metadata": {},
     "output_type": "execute_result"
    }
   ],
   "source": [
    "adata_Colon_Normal_1.obs['doublet_scores'] = doublet_data['doublet_scores']\n",
    "adata_Colon_Normal_1.obs['predicted_doublets'] = doublet_data['predicted_doublets']\n",
    "adata_Colon_Normal_1 = adata_Colon_Normal_1[adata_Colon_Normal_1.obs['predicted_doublets'] == False]\n",
    "adata_Colon_Normal_1"
   ]
  },
  {
   "cell_type": "markdown",
   "metadata": {},
   "source": [
    "### adata_Colon_Tumor_1"
   ]
  },
  {
   "cell_type": "code",
   "execution_count": 14,
   "metadata": {},
   "outputs": [
    {
     "name": "stdout",
     "output_type": "stream",
     "text": [
      "Counts matrix shape: 6257 rows, 33538 columns\n",
      "Number of genes in gene list: 33538\n",
      "Preprocessing...\n",
      "Simulating doublets...\n",
      "Embedding transcriptomes using PCA...\n",
      "Calculating doublet scores...\n",
      "Automatically set threshold at doublet score = 0.62\n",
      "Detected doublet rate = 0.0%\n",
      "Estimated detectable doublet fraction = 0.4%\n",
      "Overall doublet rate:\n",
      "\tExpected   = 6.0%\n",
      "\tEstimated  = 3.8%\n",
      "Elapsed time: 5.4 seconds\n",
      "--> This might be very slow. Consider passing `cache=True`, which enables much faster reading from a cache file.\n"
     ]
    },
    {
     "data": {
      "text/plain": [
       "View of AnnData object with n_obs × n_vars = 6256 × 33538\n",
       "    obs: 'doublet_scores', 'predicted_doublets'\n",
       "    var: 'gene_ids', 'feature_types'"
      ]
     },
     "execution_count": 14,
     "metadata": {},
     "output_type": "execute_result"
    }
   ],
   "source": [
    "# 1. input_dir\n",
    "input_dir = '/Users/xuewei/ZxProjects/CRC/2023_GSE231559/00_backup/GSE231559_RAW/C1T/'\n",
    "\n",
    "# 2. input\n",
    "counts_matrix = scipy.io.mmread(input_dir + '/matrix.mtx.gz').T.tocsc()\n",
    "\n",
    "# genes = np.array(scr.load_genes(input_dir + '/features.tsv', delimiter='\\t', column=1))\n",
    "gz_file = input_dir + '/features.tsv.gz'\n",
    "decompressed_file = input_dir + '/features.tsv'\n",
    "with gzip.open(gz_file, 'rb') as f_in:\n",
    "    with open(decompressed_file, 'wb') as f_out:\n",
    "        shutil.copyfileobj(f_in, f_out)\n",
    "genes = np.array(scr.load_genes(decompressed_file, delimiter='\\t', column=1))\n",
    "os.remove(decompressed_file)\n",
    "\n",
    "out_df = pd.read_csv(input_dir + '/barcodes.tsv.gz', header = None, index_col=None, names=['barcode'])\n",
    "\n",
    "print('Counts matrix shape: {} rows, {} columns'.format(counts_matrix.shape[0], counts_matrix.shape[1]))\n",
    "print('Number of genes in gene list: {}'.format(len(genes)))\n",
    "\n",
    "# 3. Scrublet\n",
    "scrub = scr.Scrublet(counts_matrix, expected_doublet_rate=0.06)\n",
    "doublet_scores, predicted_doublets = scrub.scrub_doublets(min_counts=2, \n",
    "                                                          min_cells=3, \n",
    "                                                          min_gene_variability_pctl=85, \n",
    "                                                          n_prin_comps=30)\n",
    "\n",
    "# 5. save doublet.txt\n",
    "scrub.detected_doublet_rate_\n",
    "\n",
    "out_df['doublet_scores'] = doublet_scores\n",
    "out_df['predicted_doublets'] = predicted_doublets\n",
    "out_df.to_csv(input_dir + '/doublet.txt', index=False,header=True)\n",
    "# out_df.head()\n",
    "\n",
    "# 6. input data\n",
    "adata_Colon_Tumor_1 = sc.read_10x_mtx('/Users/xuewei/ZxProjects/CRC/2023_GSE231559/00_backup/GSE231559_RAW/C1T/', var_names='gene_symbols', cache=False)\n",
    "adata_Colon_Tumor_1.var_names_make_unique()\n",
    "\n",
    "doublet_data = pd.read_csv(input_dir + 'doublet.txt', header=0, index_col=0)\n",
    "\n",
    "adata_Colon_Tumor_1.obs['doublet_scores'] = doublet_data['doublet_scores']\n",
    "adata_Colon_Tumor_1.obs['predicted_doublets'] = doublet_data['predicted_doublets']\n",
    "adata_Colon_Tumor_1 = adata_Colon_Tumor_1[adata_Colon_Tumor_1.obs['predicted_doublets'] == False]\n",
    "adata_Colon_Tumor_1"
   ]
  },
  {
   "cell_type": "markdown",
   "metadata": {},
   "source": [
    "### adata_Colon_Normal_2 and adata_Colon_Tumor_2"
   ]
  },
  {
   "cell_type": "code",
   "execution_count": 16,
   "metadata": {},
   "outputs": [
    {
     "name": "stdout",
     "output_type": "stream",
     "text": [
      "Counts matrix shape: 8132 rows, 33538 columns\n",
      "Number of genes in gene list: 33538\n",
      "Preprocessing...\n",
      "Simulating doublets...\n",
      "Embedding transcriptomes using PCA...\n",
      "Calculating doublet scores...\n",
      "Automatically set threshold at doublet score = 0.64\n",
      "Detected doublet rate = 0.0%\n",
      "Estimated detectable doublet fraction = 0.3%\n",
      "Overall doublet rate:\n",
      "\tExpected   = 6.0%\n",
      "\tEstimated  = 8.7%\n",
      "Elapsed time: 5.5 seconds\n",
      "--> This might be very slow. Consider passing `cache=True`, which enables much faster reading from a cache file.\n"
     ]
    },
    {
     "data": {
      "text/plain": [
       "View of AnnData object with n_obs × n_vars = 8130 × 33538\n",
       "    obs: 'doublet_scores', 'predicted_doublets'\n",
       "    var: 'gene_ids', 'feature_types'"
      ]
     },
     "execution_count": 16,
     "metadata": {},
     "output_type": "execute_result"
    }
   ],
   "source": [
    "# 1. input_dir\n",
    "input_dir = '/Users/xuewei/ZxProjects/CRC/2023_GSE231559/00_backup/GSE231559_RAW/C2N/'\n",
    "\n",
    "# 2. input\n",
    "counts_matrix = scipy.io.mmread(input_dir + '/matrix.mtx.gz').T.tocsc()\n",
    "\n",
    "# genes = np.array(scr.load_genes(input_dir + '/features.tsv', delimiter='\\t', column=1))\n",
    "gz_file = input_dir + '/features.tsv.gz'\n",
    "decompressed_file = input_dir + '/features.tsv'\n",
    "with gzip.open(gz_file, 'rb') as f_in:\n",
    "    with open(decompressed_file, 'wb') as f_out:\n",
    "        shutil.copyfileobj(f_in, f_out)\n",
    "genes = np.array(scr.load_genes(decompressed_file, delimiter='\\t', column=1))\n",
    "os.remove(decompressed_file)\n",
    "\n",
    "out_df = pd.read_csv(input_dir + '/barcodes.tsv.gz', header = None, index_col=None, names=['barcode'])\n",
    "\n",
    "print('Counts matrix shape: {} rows, {} columns'.format(counts_matrix.shape[0], counts_matrix.shape[1]))\n",
    "print('Number of genes in gene list: {}'.format(len(genes)))\n",
    "\n",
    "# 3. Scrublet\n",
    "scrub = scr.Scrublet(counts_matrix, expected_doublet_rate=0.06)\n",
    "doublet_scores, predicted_doublets = scrub.scrub_doublets(min_counts=2, \n",
    "                                                          min_cells=3, \n",
    "                                                          min_gene_variability_pctl=85, \n",
    "                                                          n_prin_comps=30)\n",
    "\n",
    "# 5. save doublet.txt\n",
    "scrub.detected_doublet_rate_\n",
    "\n",
    "out_df['doublet_scores'] = doublet_scores\n",
    "out_df['predicted_doublets'] = predicted_doublets\n",
    "out_df.to_csv(input_dir + '/doublet.txt', index=False,header=True)\n",
    "# out_df.head()\n",
    "\n",
    "# 6. input data\n",
    "adata_Colon_Normal_2 = sc.read_10x_mtx('/Users/xuewei/ZxProjects/CRC/2023_GSE231559/00_backup/GSE231559_RAW/C2N/', var_names='gene_symbols', cache=False)\n",
    "adata_Colon_Normal_2.var_names_make_unique()\n",
    "\n",
    "doublet_data = pd.read_csv(input_dir + 'doublet.txt', header=0, index_col=0)\n",
    "\n",
    "adata_Colon_Normal_2.obs['doublet_scores'] = doublet_data['doublet_scores']\n",
    "adata_Colon_Normal_2.obs['predicted_doublets'] = doublet_data['predicted_doublets']\n",
    "adata_Colon_Normal_2 = adata_Colon_Normal_2[adata_Colon_Normal_2.obs['predicted_doublets'] == False]\n",
    "adata_Colon_Normal_2"
   ]
  },
  {
   "cell_type": "code",
   "execution_count": 17,
   "id": "2808cce0",
   "metadata": {},
   "outputs": [
    {
     "name": "stdout",
     "output_type": "stream",
     "text": [
      "Counts matrix shape: 4799 rows, 33538 columns\n",
      "Number of genes in gene list: 33538\n",
      "Preprocessing...\n",
      "Simulating doublets...\n",
      "Embedding transcriptomes using PCA...\n",
      "Calculating doublet scores...\n",
      "Automatically set threshold at doublet score = 0.57\n",
      "Detected doublet rate = 0.0%\n",
      "Estimated detectable doublet fraction = 1.9%\n",
      "Overall doublet rate:\n",
      "\tExpected   = 6.0%\n",
      "\tEstimated  = 0.0%\n",
      "Elapsed time: 3.6 seconds\n",
      "--> This might be very slow. Consider passing `cache=True`, which enables much faster reading from a cache file.\n"
     ]
    },
    {
     "data": {
      "text/plain": [
       "View of AnnData object with n_obs × n_vars = 4799 × 33538\n",
       "    obs: 'doublet_scores', 'predicted_doublets'\n",
       "    var: 'gene_ids', 'feature_types'"
      ]
     },
     "execution_count": 17,
     "metadata": {},
     "output_type": "execute_result"
    }
   ],
   "source": [
    "# 1. input_dir\n",
    "input_dir = '/Users/xuewei/ZxProjects/CRC/2023_GSE231559/00_backup/GSE231559_RAW/C2T/'\n",
    "\n",
    "# 2. input\n",
    "counts_matrix = scipy.io.mmread(input_dir + '/matrix.mtx.gz').T.tocsc()\n",
    "\n",
    "# genes = np.array(scr.load_genes(input_dir + '/features.tsv', delimiter='\\t', column=1))\n",
    "gz_file = input_dir + '/features.tsv.gz'\n",
    "decompressed_file = input_dir + '/features.tsv'\n",
    "with gzip.open(gz_file, 'rb') as f_in:\n",
    "    with open(decompressed_file, 'wb') as f_out:\n",
    "        shutil.copyfileobj(f_in, f_out)\n",
    "genes = np.array(scr.load_genes(decompressed_file, delimiter='\\t', column=1))\n",
    "os.remove(decompressed_file)\n",
    "\n",
    "out_df = pd.read_csv(input_dir + '/barcodes.tsv.gz', header = None, index_col=None, names=['barcode'])\n",
    "\n",
    "print('Counts matrix shape: {} rows, {} columns'.format(counts_matrix.shape[0], counts_matrix.shape[1]))\n",
    "print('Number of genes in gene list: {}'.format(len(genes)))\n",
    "\n",
    "# 3. Scrublet\n",
    "scrub = scr.Scrublet(counts_matrix, expected_doublet_rate=0.06)\n",
    "doublet_scores, predicted_doublets = scrub.scrub_doublets(min_counts=2, \n",
    "                                                          min_cells=3, \n",
    "                                                          min_gene_variability_pctl=85, \n",
    "                                                          n_prin_comps=30)\n",
    "\n",
    "# 5. save doublet.txt\n",
    "scrub.detected_doublet_rate_\n",
    "\n",
    "out_df['doublet_scores'] = doublet_scores\n",
    "out_df['predicted_doublets'] = predicted_doublets\n",
    "out_df.to_csv(input_dir + '/doublet.txt', index=False,header=True)\n",
    "# out_df.head()\n",
    "\n",
    "# 6. input data\n",
    "adata_Colon_Tumor_2 = sc.read_10x_mtx('/Users/xuewei/ZxProjects/CRC/2023_GSE231559/00_backup/GSE231559_RAW/C2T/', var_names='gene_symbols', cache=False)\n",
    "adata_Colon_Tumor_2.var_names_make_unique()\n",
    "\n",
    "doublet_data = pd.read_csv(input_dir + 'doublet.txt', header=0, index_col=0)\n",
    "\n",
    "adata_Colon_Tumor_2.obs['doublet_scores'] = doublet_data['doublet_scores']\n",
    "adata_Colon_Tumor_2.obs['predicted_doublets'] = doublet_data['predicted_doublets']\n",
    "adata_Colon_Tumor_2 = adata_Colon_Tumor_2[adata_Colon_Tumor_2.obs['predicted_doublets'] == False]\n",
    "adata_Colon_Tumor_2"
   ]
  },
  {
   "cell_type": "markdown",
   "metadata": {},
   "source": [
    "### adata_Colon_Normal_3 and adata_Colon_Tumor_3"
   ]
  },
  {
   "cell_type": "code",
   "execution_count": 18,
   "metadata": {},
   "outputs": [
    {
     "name": "stdout",
     "output_type": "stream",
     "text": [
      "Counts matrix shape: 5942 rows, 33538 columns\n",
      "Number of genes in gene list: 33538\n",
      "Preprocessing...\n",
      "Simulating doublets...\n",
      "Embedding transcriptomes using PCA...\n",
      "Calculating doublet scores...\n",
      "Automatically set threshold at doublet score = 0.61\n",
      "Detected doublet rate = 0.2%\n",
      "Estimated detectable doublet fraction = 2.5%\n",
      "Overall doublet rate:\n",
      "\tExpected   = 6.0%\n",
      "\tEstimated  = 8.1%\n",
      "Elapsed time: 4.5 seconds\n",
      "--> This might be very slow. Consider passing `cache=True`, which enables much faster reading from a cache file.\n"
     ]
    },
    {
     "data": {
      "text/plain": [
       "View of AnnData object with n_obs × n_vars = 5930 × 33538\n",
       "    obs: 'doublet_scores', 'predicted_doublets'\n",
       "    var: 'gene_ids', 'feature_types'"
      ]
     },
     "execution_count": 18,
     "metadata": {},
     "output_type": "execute_result"
    }
   ],
   "source": [
    "# 1. input_dir\n",
    "input_dir = '/Users/xuewei/ZxProjects/CRC/2023_GSE231559/00_backup/GSE231559_RAW/C3N/'\n",
    "\n",
    "# 2. input\n",
    "counts_matrix = scipy.io.mmread(input_dir + '/matrix.mtx.gz').T.tocsc()\n",
    "\n",
    "# genes = np.array(scr.load_genes(input_dir + '/features.tsv', delimiter='\\t', column=1))\n",
    "gz_file = input_dir + '/features.tsv.gz'\n",
    "decompressed_file = input_dir + '/features.tsv'\n",
    "with gzip.open(gz_file, 'rb') as f_in:\n",
    "    with open(decompressed_file, 'wb') as f_out:\n",
    "        shutil.copyfileobj(f_in, f_out)\n",
    "genes = np.array(scr.load_genes(decompressed_file, delimiter='\\t', column=1))\n",
    "os.remove(decompressed_file)\n",
    "\n",
    "out_df = pd.read_csv(input_dir + '/barcodes.tsv.gz', header = None, index_col=None, names=['barcode'])\n",
    "\n",
    "print('Counts matrix shape: {} rows, {} columns'.format(counts_matrix.shape[0], counts_matrix.shape[1]))\n",
    "print('Number of genes in gene list: {}'.format(len(genes)))\n",
    "\n",
    "# 3. Scrublet\n",
    "scrub = scr.Scrublet(counts_matrix, expected_doublet_rate=0.06)\n",
    "doublet_scores, predicted_doublets = scrub.scrub_doublets(min_counts=2, \n",
    "                                                          min_cells=3, \n",
    "                                                          min_gene_variability_pctl=85, \n",
    "                                                          n_prin_comps=30)\n",
    "\n",
    "# 5. save doublet.txt\n",
    "scrub.detected_doublet_rate_\n",
    "\n",
    "out_df['doublet_scores'] = doublet_scores\n",
    "out_df['predicted_doublets'] = predicted_doublets\n",
    "out_df.to_csv(input_dir + '/doublet.txt', index=False,header=True)\n",
    "# out_df.head()\n",
    "\n",
    "# 6. input data\n",
    "adata_Colon_Normal_3 = sc.read_10x_mtx('/Users/xuewei/ZxProjects/CRC/2023_GSE231559/00_backup/GSE231559_RAW/C3N/', var_names='gene_symbols', cache=False)\n",
    "adata_Colon_Normal_3.var_names_make_unique()\n",
    "\n",
    "doublet_data = pd.read_csv(input_dir + 'doublet.txt', header=0, index_col=0)\n",
    "\n",
    "adata_Colon_Normal_3.obs['doublet_scores'] = doublet_data['doublet_scores']\n",
    "adata_Colon_Normal_3.obs['predicted_doublets'] = doublet_data['predicted_doublets']\n",
    "adata_Colon_Normal_3 = adata_Colon_Normal_3[adata_Colon_Normal_3.obs['predicted_doublets'] == False]\n",
    "adata_Colon_Normal_3"
   ]
  },
  {
   "cell_type": "code",
   "execution_count": 19,
   "id": "3d89fc26",
   "metadata": {},
   "outputs": [
    {
     "name": "stdout",
     "output_type": "stream",
     "text": [
      "Counts matrix shape: 8951 rows, 33538 columns\n",
      "Number of genes in gene list: 33538\n",
      "Preprocessing...\n",
      "Simulating doublets...\n",
      "Embedding transcriptomes using PCA...\n",
      "Calculating doublet scores...\n",
      "Automatically set threshold at doublet score = 0.66\n",
      "Detected doublet rate = 0.1%\n",
      "Estimated detectable doublet fraction = 0.8%\n",
      "Overall doublet rate:\n",
      "\tExpected   = 6.0%\n",
      "\tEstimated  = 8.4%\n",
      "Elapsed time: 7.6 seconds\n",
      "--> This might be very slow. Consider passing `cache=True`, which enables much faster reading from a cache file.\n"
     ]
    },
    {
     "data": {
      "text/plain": [
       "View of AnnData object with n_obs × n_vars = 8945 × 33538\n",
       "    obs: 'doublet_scores', 'predicted_doublets'\n",
       "    var: 'gene_ids', 'feature_types'"
      ]
     },
     "execution_count": 19,
     "metadata": {},
     "output_type": "execute_result"
    }
   ],
   "source": [
    "# 1. input_dir\n",
    "input_dir = '/Users/xuewei/ZxProjects/CRC/2023_GSE231559/00_backup/GSE231559_RAW/C3T/'\n",
    "\n",
    "# 2. input\n",
    "counts_matrix = scipy.io.mmread(input_dir + '/matrix.mtx.gz').T.tocsc()\n",
    "\n",
    "# genes = np.array(scr.load_genes(input_dir + '/features.tsv', delimiter='\\t', column=1))\n",
    "gz_file = input_dir + '/features.tsv.gz'\n",
    "decompressed_file = input_dir + '/features.tsv'\n",
    "with gzip.open(gz_file, 'rb') as f_in:\n",
    "    with open(decompressed_file, 'wb') as f_out:\n",
    "        shutil.copyfileobj(f_in, f_out)\n",
    "genes = np.array(scr.load_genes(decompressed_file, delimiter='\\t', column=1))\n",
    "os.remove(decompressed_file)\n",
    "\n",
    "out_df = pd.read_csv(input_dir + '/barcodes.tsv.gz', header = None, index_col=None, names=['barcode'])\n",
    "\n",
    "print('Counts matrix shape: {} rows, {} columns'.format(counts_matrix.shape[0], counts_matrix.shape[1]))\n",
    "print('Number of genes in gene list: {}'.format(len(genes)))\n",
    "\n",
    "# 3. Scrublet\n",
    "scrub = scr.Scrublet(counts_matrix, expected_doublet_rate=0.06)\n",
    "doublet_scores, predicted_doublets = scrub.scrub_doublets(min_counts=2, \n",
    "                                                          min_cells=3, \n",
    "                                                          min_gene_variability_pctl=85, \n",
    "                                                          n_prin_comps=30)\n",
    "\n",
    "# 5. save doublet.txt\n",
    "scrub.detected_doublet_rate_\n",
    "\n",
    "out_df['doublet_scores'] = doublet_scores\n",
    "out_df['predicted_doublets'] = predicted_doublets\n",
    "out_df.to_csv(input_dir + '/doublet.txt', index=False,header=True)\n",
    "# out_df.head()\n",
    "\n",
    "# 6. input data\n",
    "adata_Colon_Tumor_3 = sc.read_10x_mtx('/Users/xuewei/ZxProjects/CRC/2023_GSE231559/00_backup/GSE231559_RAW/C3T/', var_names='gene_symbols', cache=False)\n",
    "adata_Colon_Tumor_3.var_names_make_unique()\n",
    "\n",
    "doublet_data = pd.read_csv(input_dir + 'doublet.txt', header=0, index_col=0)\n",
    "\n",
    "adata_Colon_Tumor_3.obs['doublet_scores'] = doublet_data['doublet_scores']\n",
    "adata_Colon_Tumor_3.obs['predicted_doublets'] = doublet_data['predicted_doublets']\n",
    "adata_Colon_Tumor_3 = adata_Colon_Tumor_3[adata_Colon_Tumor_3.obs['predicted_doublets'] == False]\n",
    "adata_Colon_Tumor_3"
   ]
  },
  {
   "cell_type": "markdown",
   "metadata": {},
   "source": [
    "### adata_Colon_Tumor_4, adata_Colon_Tumor_5 and adata_Colon_Tumor_6"
   ]
  },
  {
   "cell_type": "code",
   "execution_count": 20,
   "metadata": {},
   "outputs": [
    {
     "name": "stdout",
     "output_type": "stream",
     "text": [
      "Counts matrix shape: 3361 rows, 33538 columns\n",
      "Number of genes in gene list: 33538\n",
      "Preprocessing...\n",
      "Simulating doublets...\n",
      "Embedding transcriptomes using PCA...\n",
      "Calculating doublet scores...\n",
      "Automatically set threshold at doublet score = 0.51\n",
      "Detected doublet rate = 0.1%\n",
      "Estimated detectable doublet fraction = 9.0%\n",
      "Overall doublet rate:\n",
      "\tExpected   = 6.0%\n",
      "\tEstimated  = 1.3%\n",
      "Elapsed time: 2.9 seconds\n",
      "--> This might be very slow. Consider passing `cache=True`, which enables much faster reading from a cache file.\n"
     ]
    },
    {
     "data": {
      "text/plain": [
       "View of AnnData object with n_obs × n_vars = 3357 × 33538\n",
       "    obs: 'doublet_scores', 'predicted_doublets'\n",
       "    var: 'gene_ids', 'feature_types'"
      ]
     },
     "execution_count": 20,
     "metadata": {},
     "output_type": "execute_result"
    }
   ],
   "source": [
    "# 1. input_dir\n",
    "input_dir = '/Users/xuewei/ZxProjects/CRC/2023_GSE231559/00_backup/GSE231559_RAW/C4T/'\n",
    "\n",
    "# 2. input\n",
    "counts_matrix = scipy.io.mmread(input_dir + '/matrix.mtx.gz').T.tocsc()\n",
    "\n",
    "# genes = np.array(scr.load_genes(input_dir + '/features.tsv', delimiter='\\t', column=1))\n",
    "gz_file = input_dir + '/features.tsv.gz'\n",
    "decompressed_file = input_dir + '/features.tsv'\n",
    "with gzip.open(gz_file, 'rb') as f_in:\n",
    "    with open(decompressed_file, 'wb') as f_out:\n",
    "        shutil.copyfileobj(f_in, f_out)\n",
    "genes = np.array(scr.load_genes(decompressed_file, delimiter='\\t', column=1))\n",
    "os.remove(decompressed_file)\n",
    "\n",
    "out_df = pd.read_csv(input_dir + '/barcodes.tsv.gz', header = None, index_col=None, names=['barcode'])\n",
    "\n",
    "print('Counts matrix shape: {} rows, {} columns'.format(counts_matrix.shape[0], counts_matrix.shape[1]))\n",
    "print('Number of genes in gene list: {}'.format(len(genes)))\n",
    "\n",
    "# 3. Scrublet\n",
    "scrub = scr.Scrublet(counts_matrix, expected_doublet_rate=0.06)\n",
    "doublet_scores, predicted_doublets = scrub.scrub_doublets(min_counts=2, \n",
    "                                                          min_cells=3, \n",
    "                                                          min_gene_variability_pctl=85, \n",
    "                                                          n_prin_comps=30)\n",
    "\n",
    "# 5. save doublet.txt\n",
    "scrub.detected_doublet_rate_\n",
    "\n",
    "out_df['doublet_scores'] = doublet_scores\n",
    "out_df['predicted_doublets'] = predicted_doublets\n",
    "out_df.to_csv(input_dir + '/doublet.txt', index=False,header=True)\n",
    "# out_df.head()\n",
    "\n",
    "# 6. input data\n",
    "adata_Colon_Tumor_4 = sc.read_10x_mtx('/Users/xuewei/ZxProjects/CRC/2023_GSE231559/00_backup/GSE231559_RAW/C4T/', var_names='gene_symbols', cache=False)\n",
    "adata_Colon_Tumor_4.var_names_make_unique()\n",
    "\n",
    "doublet_data = pd.read_csv(input_dir + 'doublet.txt', header=0, index_col=0)\n",
    "\n",
    "adata_Colon_Tumor_4.obs['doublet_scores'] = doublet_data['doublet_scores']\n",
    "adata_Colon_Tumor_4.obs['predicted_doublets'] = doublet_data['predicted_doublets']\n",
    "adata_Colon_Tumor_4 = adata_Colon_Tumor_4[adata_Colon_Tumor_4.obs['predicted_doublets'] == False]\n",
    "adata_Colon_Tumor_4"
   ]
  },
  {
   "cell_type": "code",
   "execution_count": 21,
   "id": "6afffd9d",
   "metadata": {},
   "outputs": [
    {
     "name": "stdout",
     "output_type": "stream",
     "text": [
      "Counts matrix shape: 4889 rows, 33538 columns\n",
      "Number of genes in gene list: 33538\n",
      "Preprocessing...\n",
      "Simulating doublets...\n",
      "Embedding transcriptomes using PCA...\n",
      "Calculating doublet scores...\n",
      "Automatically set threshold at doublet score = 0.58\n",
      "Detected doublet rate = 0.2%\n",
      "Estimated detectable doublet fraction = 2.0%\n",
      "Overall doublet rate:\n",
      "\tExpected   = 6.0%\n",
      "\tEstimated  = 8.0%\n",
      "Elapsed time: 4.2 seconds\n",
      "--> This might be very slow. Consider passing `cache=True`, which enables much faster reading from a cache file.\n"
     ]
    },
    {
     "data": {
      "text/plain": [
       "View of AnnData object with n_obs × n_vars = 4881 × 33538\n",
       "    obs: 'doublet_scores', 'predicted_doublets'\n",
       "    var: 'gene_ids', 'feature_types'"
      ]
     },
     "execution_count": 21,
     "metadata": {},
     "output_type": "execute_result"
    }
   ],
   "source": [
    "# 1. input_dir\n",
    "input_dir = '/Users/xuewei/ZxProjects/CRC/2023_GSE231559/00_backup/GSE231559_RAW/C5T/'\n",
    "\n",
    "# 2. input\n",
    "counts_matrix = scipy.io.mmread(input_dir + '/matrix.mtx.gz').T.tocsc()\n",
    "\n",
    "# genes = np.array(scr.load_genes(input_dir + '/features.tsv', delimiter='\\t', column=1))\n",
    "gz_file = input_dir + '/features.tsv.gz'\n",
    "decompressed_file = input_dir + '/features.tsv'\n",
    "with gzip.open(gz_file, 'rb') as f_in:\n",
    "    with open(decompressed_file, 'wb') as f_out:\n",
    "        shutil.copyfileobj(f_in, f_out)\n",
    "genes = np.array(scr.load_genes(decompressed_file, delimiter='\\t', column=1))\n",
    "os.remove(decompressed_file)\n",
    "\n",
    "out_df = pd.read_csv(input_dir + '/barcodes.tsv.gz', header = None, index_col=None, names=['barcode'])\n",
    "\n",
    "print('Counts matrix shape: {} rows, {} columns'.format(counts_matrix.shape[0], counts_matrix.shape[1]))\n",
    "print('Number of genes in gene list: {}'.format(len(genes)))\n",
    "\n",
    "# 3. Scrublet\n",
    "scrub = scr.Scrublet(counts_matrix, expected_doublet_rate=0.06)\n",
    "doublet_scores, predicted_doublets = scrub.scrub_doublets(min_counts=2, \n",
    "                                                          min_cells=3, \n",
    "                                                          min_gene_variability_pctl=85, \n",
    "                                                          n_prin_comps=30)\n",
    "\n",
    "# 5. save doublet.txt\n",
    "scrub.detected_doublet_rate_\n",
    "\n",
    "out_df['doublet_scores'] = doublet_scores\n",
    "out_df['predicted_doublets'] = predicted_doublets\n",
    "out_df.to_csv(input_dir + '/doublet.txt', index=False,header=True)\n",
    "# out_df.head()\n",
    "\n",
    "# 6. input data\n",
    "adata_Colon_Tumor_5 = sc.read_10x_mtx('/Users/xuewei/ZxProjects/CRC/2023_GSE231559/00_backup/GSE231559_RAW/C5T/', var_names='gene_symbols', cache=False)\n",
    "adata_Colon_Tumor_5.var_names_make_unique()\n",
    "\n",
    "doublet_data = pd.read_csv(input_dir + 'doublet.txt', header=0, index_col=0)\n",
    "\n",
    "adata_Colon_Tumor_5.obs['doublet_scores'] = doublet_data['doublet_scores']\n",
    "adata_Colon_Tumor_5.obs['predicted_doublets'] = doublet_data['predicted_doublets']\n",
    "adata_Colon_Tumor_5 = adata_Colon_Tumor_5[adata_Colon_Tumor_5.obs['predicted_doublets'] == False]\n",
    "adata_Colon_Tumor_5"
   ]
  },
  {
   "cell_type": "code",
   "execution_count": 22,
   "metadata": {},
   "outputs": [
    {
     "name": "stdout",
     "output_type": "stream",
     "text": [
      "Counts matrix shape: 4428 rows, 33538 columns\n",
      "Number of genes in gene list: 33538\n",
      "Preprocessing...\n",
      "Simulating doublets...\n",
      "Embedding transcriptomes using PCA...\n",
      "Calculating doublet scores...\n",
      "Automatically set threshold at doublet score = 0.57\n",
      "Detected doublet rate = 0.1%\n",
      "Estimated detectable doublet fraction = 2.9%\n",
      "Overall doublet rate:\n",
      "\tExpected   = 6.0%\n",
      "\tEstimated  = 4.0%\n",
      "Elapsed time: 3.2 seconds\n",
      "--> This might be very slow. Consider passing `cache=True`, which enables much faster reading from a cache file.\n"
     ]
    },
    {
     "data": {
      "text/plain": [
       "View of AnnData object with n_obs × n_vars = 4423 × 33538\n",
       "    obs: 'doublet_scores', 'predicted_doublets'\n",
       "    var: 'gene_ids', 'feature_types'"
      ]
     },
     "execution_count": 22,
     "metadata": {},
     "output_type": "execute_result"
    }
   ],
   "source": [
    "# 1. input_dir\n",
    "input_dir = '/Users/xuewei/ZxProjects/CRC/2023_GSE231559/00_backup/GSE231559_RAW/C6T/'\n",
    "\n",
    "# 2. input\n",
    "counts_matrix = scipy.io.mmread(input_dir + '/matrix.mtx.gz').T.tocsc()\n",
    "\n",
    "# genes = np.array(scr.load_genes(input_dir + '/features.tsv', delimiter='\\t', column=1))\n",
    "gz_file = input_dir + '/features.tsv.gz'\n",
    "decompressed_file = input_dir + '/features.tsv'\n",
    "with gzip.open(gz_file, 'rb') as f_in:\n",
    "    with open(decompressed_file, 'wb') as f_out:\n",
    "        shutil.copyfileobj(f_in, f_out)\n",
    "genes = np.array(scr.load_genes(decompressed_file, delimiter='\\t', column=1))\n",
    "os.remove(decompressed_file)\n",
    "\n",
    "out_df = pd.read_csv(input_dir + '/barcodes.tsv.gz', header = None, index_col=None, names=['barcode'])\n",
    "\n",
    "print('Counts matrix shape: {} rows, {} columns'.format(counts_matrix.shape[0], counts_matrix.shape[1]))\n",
    "print('Number of genes in gene list: {}'.format(len(genes)))\n",
    "\n",
    "# 3. Scrublet\n",
    "scrub = scr.Scrublet(counts_matrix, expected_doublet_rate=0.06)\n",
    "doublet_scores, predicted_doublets = scrub.scrub_doublets(min_counts=2, \n",
    "                                                          min_cells=3, \n",
    "                                                          min_gene_variability_pctl=85, \n",
    "                                                          n_prin_comps=30)\n",
    "\n",
    "# 5. save doublet.txt\n",
    "scrub.detected_doublet_rate_\n",
    "\n",
    "out_df['doublet_scores'] = doublet_scores\n",
    "out_df['predicted_doublets'] = predicted_doublets\n",
    "out_df.to_csv(input_dir + '/doublet.txt', index=False,header=True)\n",
    "# out_df.head()\n",
    "\n",
    "# 6. input data\n",
    "adata_Colon_Tumor_6 = sc.read_10x_mtx('/Users/xuewei/ZxProjects/CRC/2023_GSE231559/00_backup/GSE231559_RAW/C6T/', var_names='gene_symbols', cache=False)\n",
    "adata_Colon_Tumor_6.var_names_make_unique()\n",
    "\n",
    "doublet_data = pd.read_csv(input_dir + 'doublet.txt', header=0, index_col=0)\n",
    "\n",
    "adata_Colon_Tumor_6.obs['doublet_scores'] = doublet_data['doublet_scores']\n",
    "adata_Colon_Tumor_6.obs['predicted_doublets'] = doublet_data['predicted_doublets']\n",
    "adata_Colon_Tumor_6 = adata_Colon_Tumor_6[adata_Colon_Tumor_6.obs['predicted_doublets'] == False]\n",
    "adata_Colon_Tumor_6"
   ]
  },
  {
   "cell_type": "markdown",
   "metadata": {},
   "source": [
    "### adata_Liver_Normal_1 and adata_Liver_Tumor_1"
   ]
  },
  {
   "cell_type": "code",
   "execution_count": 23,
   "metadata": {},
   "outputs": [
    {
     "name": "stdout",
     "output_type": "stream",
     "text": [
      "Counts matrix shape: 3570 rows, 33538 columns\n",
      "Number of genes in gene list: 33538\n",
      "Preprocessing...\n",
      "Simulating doublets...\n",
      "Embedding transcriptomes using PCA...\n",
      "Calculating doublet scores...\n",
      "Automatically set threshold at doublet score = 0.54\n",
      "Detected doublet rate = 0.1%\n",
      "Estimated detectable doublet fraction = 4.8%\n",
      "Overall doublet rate:\n",
      "\tExpected   = 6.0%\n",
      "\tEstimated  = 2.3%\n",
      "Elapsed time: 2.3 seconds\n",
      "--> This might be very slow. Consider passing `cache=True`, which enables much faster reading from a cache file.\n"
     ]
    },
    {
     "name": "stderr",
     "output_type": "stream",
     "text": [
      "/var/folders/nt/95vmy3614zd_8x3sv2ktwn7c0000gp/T/ipykernel_38254/409797821.py:42: ImplicitModificationWarning: Trying to modify attribute `.obs` of view, initializing view as actual.\n",
      "  adata_Colon_Tumor_6.obs['doublet_scores'] = doublet_data['doublet_scores']\n"
     ]
    },
    {
     "data": {
      "text/plain": [
       "View of AnnData object with n_obs × n_vars = 6 × 33538\n",
       "    obs: 'doublet_scores', 'predicted_doublets'\n",
       "    var: 'gene_ids', 'feature_types'"
      ]
     },
     "execution_count": 23,
     "metadata": {},
     "output_type": "execute_result"
    }
   ],
   "source": [
    "# 1. input_dir\n",
    "input_dir = '/Users/xuewei/ZxProjects/CRC/2023_GSE231559/00_backup/GSE231559_RAW/L1N/'\n",
    "\n",
    "# 2. input\n",
    "counts_matrix = scipy.io.mmread(input_dir + '/matrix.mtx.gz').T.tocsc()\n",
    "\n",
    "# genes = np.array(scr.load_genes(input_dir + '/features.tsv', delimiter='\\t', column=1))\n",
    "gz_file = input_dir + '/features.tsv.gz'\n",
    "decompressed_file = input_dir + '/features.tsv'\n",
    "with gzip.open(gz_file, 'rb') as f_in:\n",
    "    with open(decompressed_file, 'wb') as f_out:\n",
    "        shutil.copyfileobj(f_in, f_out)\n",
    "genes = np.array(scr.load_genes(decompressed_file, delimiter='\\t', column=1))\n",
    "os.remove(decompressed_file)\n",
    "\n",
    "out_df = pd.read_csv(input_dir + '/barcodes.tsv.gz', header = None, index_col=None, names=['barcode'])\n",
    "\n",
    "print('Counts matrix shape: {} rows, {} columns'.format(counts_matrix.shape[0], counts_matrix.shape[1]))\n",
    "print('Number of genes in gene list: {}'.format(len(genes)))\n",
    "\n",
    "# 3. Scrublet\n",
    "scrub = scr.Scrublet(counts_matrix, expected_doublet_rate=0.06)\n",
    "doublet_scores, predicted_doublets = scrub.scrub_doublets(min_counts=2, \n",
    "                                                          min_cells=3, \n",
    "                                                          min_gene_variability_pctl=85, \n",
    "                                                          n_prin_comps=30)\n",
    "\n",
    "# 5. save doublet.txt\n",
    "scrub.detected_doublet_rate_\n",
    "\n",
    "out_df['doublet_scores'] = doublet_scores\n",
    "out_df['predicted_doublets'] = predicted_doublets\n",
    "out_df.to_csv(input_dir + '/doublet.txt', index=False,header=True)\n",
    "# out_df.head()\n",
    "\n",
    "# 6. input data\n",
    "adata_Liver_Normal_1 = sc.read_10x_mtx('/Users/xuewei/ZxProjects/CRC/2023_GSE231559/00_backup/GSE231559_RAW/L1N/', var_names='gene_symbols', cache=False)\n",
    "adata_Liver_Normal_1.var_names_make_unique()\n",
    "\n",
    "doublet_data = pd.read_csv(input_dir + 'doublet.txt', header=0, index_col=0)\n",
    "\n",
    "adata_Colon_Tumor_6.obs['doublet_scores'] = doublet_data['doublet_scores']\n",
    "adata_Colon_Tumor_6.obs['predicted_doublets'] = doublet_data['predicted_doublets']\n",
    "adata_Colon_Tumor_6 = adata_Colon_Tumor_6[adata_Colon_Tumor_6.obs['predicted_doublets'] == False]\n",
    "adata_Colon_Tumor_6"
   ]
  },
  {
   "cell_type": "code",
   "execution_count": 24,
   "id": "d351b44d",
   "metadata": {},
   "outputs": [
    {
     "name": "stdout",
     "output_type": "stream",
     "text": [
      "Counts matrix shape: 3275 rows, 33538 columns\n",
      "Number of genes in gene list: 33538\n",
      "Preprocessing...\n",
      "Simulating doublets...\n",
      "Embedding transcriptomes using PCA...\n",
      "Calculating doublet scores...\n",
      "Automatically set threshold at doublet score = 0.54\n",
      "Detected doublet rate = 0.2%\n",
      "Estimated detectable doublet fraction = 4.8%\n",
      "Overall doublet rate:\n",
      "\tExpected   = 6.0%\n",
      "\tEstimated  = 3.8%\n",
      "Elapsed time: 2.6 seconds\n",
      "--> This might be very slow. Consider passing `cache=True`, which enables much faster reading from a cache file.\n"
     ]
    },
    {
     "data": {
      "text/plain": [
       "View of AnnData object with n_obs × n_vars = 3269 × 33538\n",
       "    obs: 'doublet_scores', 'predicted_doublets'\n",
       "    var: 'gene_ids', 'feature_types'"
      ]
     },
     "execution_count": 24,
     "metadata": {},
     "output_type": "execute_result"
    }
   ],
   "source": [
    "# 1. input_dir\n",
    "input_dir = '/Users/xuewei/ZxProjects/CRC/2023_GSE231559/00_backup/GSE231559_RAW/L1T/'\n",
    "\n",
    "# 2. input\n",
    "counts_matrix = scipy.io.mmread(input_dir + '/matrix.mtx.gz').T.tocsc()\n",
    "\n",
    "# genes = np.array(scr.load_genes(input_dir + '/features.tsv', delimiter='\\t', column=1))\n",
    "gz_file = input_dir + '/features.tsv.gz'\n",
    "decompressed_file = input_dir + '/features.tsv'\n",
    "with gzip.open(gz_file, 'rb') as f_in:\n",
    "    with open(decompressed_file, 'wb') as f_out:\n",
    "        shutil.copyfileobj(f_in, f_out)\n",
    "genes = np.array(scr.load_genes(decompressed_file, delimiter='\\t', column=1))\n",
    "os.remove(decompressed_file)\n",
    "\n",
    "out_df = pd.read_csv(input_dir + '/barcodes.tsv.gz', header = None, index_col=None, names=['barcode'])\n",
    "\n",
    "print('Counts matrix shape: {} rows, {} columns'.format(counts_matrix.shape[0], counts_matrix.shape[1]))\n",
    "print('Number of genes in gene list: {}'.format(len(genes)))\n",
    "\n",
    "# 3. Scrublet\n",
    "scrub = scr.Scrublet(counts_matrix, expected_doublet_rate=0.06)\n",
    "doublet_scores, predicted_doublets = scrub.scrub_doublets(min_counts=2, \n",
    "                                                          min_cells=3, \n",
    "                                                          min_gene_variability_pctl=85, \n",
    "                                                          n_prin_comps=30)\n",
    "\n",
    "# 5. save doublet.txt\n",
    "scrub.detected_doublet_rate_\n",
    "\n",
    "out_df['doublet_scores'] = doublet_scores\n",
    "out_df['predicted_doublets'] = predicted_doublets\n",
    "out_df.to_csv(input_dir + '/doublet.txt', index=False,header=True)\n",
    "# out_df.head()\n",
    "\n",
    "# 6. input data\n",
    "adata_Liver_Tumor_1 = sc.read_10x_mtx('/Users/xuewei/ZxProjects/CRC/2023_GSE231559/00_backup/GSE231559_RAW/L1T/', var_names='gene_symbols', cache=False)\n",
    "adata_Liver_Tumor_1.var_names_make_unique()\n",
    "\n",
    "doublet_data = pd.read_csv(input_dir + 'doublet.txt', header=0, index_col=0)\n",
    "\n",
    "adata_Liver_Tumor_1.obs['doublet_scores'] = doublet_data['doublet_scores']\n",
    "adata_Liver_Tumor_1.obs['predicted_doublets'] = doublet_data['predicted_doublets']\n",
    "adata_Liver_Tumor_1 = adata_Liver_Tumor_1[adata_Liver_Tumor_1.obs['predicted_doublets'] == False]\n",
    "adata_Liver_Tumor_1"
   ]
  },
  {
   "cell_type": "markdown",
   "metadata": {},
   "source": [
    "### adata_Liver_Normal_2"
   ]
  },
  {
   "cell_type": "code",
   "execution_count": 25,
   "id": "561bfaa0",
   "metadata": {},
   "outputs": [
    {
     "name": "stdout",
     "output_type": "stream",
     "text": [
      "Counts matrix shape: 3330 rows, 33538 columns\n",
      "Number of genes in gene list: 33538\n",
      "Preprocessing...\n",
      "Simulating doublets...\n",
      "Embedding transcriptomes using PCA...\n",
      "Calculating doublet scores...\n",
      "Automatically set threshold at doublet score = 0.32\n",
      "Detected doublet rate = 1.4%\n",
      "Estimated detectable doublet fraction = 26.4%\n",
      "Overall doublet rate:\n",
      "\tExpected   = 6.0%\n",
      "\tEstimated  = 5.3%\n",
      "Elapsed time: 2.2 seconds\n",
      "--> This might be very slow. Consider passing `cache=True`, which enables much faster reading from a cache file.\n"
     ]
    },
    {
     "data": {
      "text/plain": [
       "View of AnnData object with n_obs × n_vars = 3283 × 33538\n",
       "    obs: 'doublet_scores', 'predicted_doublets'\n",
       "    var: 'gene_ids', 'feature_types'"
      ]
     },
     "execution_count": 25,
     "metadata": {},
     "output_type": "execute_result"
    }
   ],
   "source": [
    "# 1. input_dir\n",
    "input_dir = '/Users/xuewei/ZxProjects/CRC/2023_GSE231559/00_backup/GSE231559_RAW/L2N/'\n",
    "\n",
    "# 2. input\n",
    "counts_matrix = scipy.io.mmread(input_dir + '/matrix.mtx.gz').T.tocsc()\n",
    "\n",
    "# genes = np.array(scr.load_genes(input_dir + '/features.tsv', delimiter='\\t', column=1))\n",
    "gz_file = input_dir + '/features.tsv.gz'\n",
    "decompressed_file = input_dir + '/features.tsv'\n",
    "with gzip.open(gz_file, 'rb') as f_in:\n",
    "    with open(decompressed_file, 'wb') as f_out:\n",
    "        shutil.copyfileobj(f_in, f_out)\n",
    "genes = np.array(scr.load_genes(decompressed_file, delimiter='\\t', column=1))\n",
    "os.remove(decompressed_file)\n",
    "\n",
    "out_df = pd.read_csv(input_dir + '/barcodes.tsv.gz', header = None, index_col=None, names=['barcode'])\n",
    "\n",
    "print('Counts matrix shape: {} rows, {} columns'.format(counts_matrix.shape[0], counts_matrix.shape[1]))\n",
    "print('Number of genes in gene list: {}'.format(len(genes)))\n",
    "\n",
    "# 3. Scrublet\n",
    "scrub = scr.Scrublet(counts_matrix, expected_doublet_rate=0.06)\n",
    "doublet_scores, predicted_doublets = scrub.scrub_doublets(min_counts=2, \n",
    "                                                          min_cells=3, \n",
    "                                                          min_gene_variability_pctl=85, \n",
    "                                                          n_prin_comps=30)\n",
    "\n",
    "# 5. save doublet.txt\n",
    "scrub.detected_doublet_rate_\n",
    "\n",
    "out_df['doublet_scores'] = doublet_scores\n",
    "out_df['predicted_doublets'] = predicted_doublets\n",
    "out_df.to_csv(input_dir + '/doublet.txt', index=False,header=True)\n",
    "# out_df.head()\n",
    "\n",
    "# 6. input data\n",
    "adata_Liver_Normal_2 = sc.read_10x_mtx('/Users/xuewei/ZxProjects/CRC/2023_GSE231559/00_backup/GSE231559_RAW/L2N/', var_names='gene_symbols', cache=False)\n",
    "adata_Liver_Normal_2.var_names_make_unique()\n",
    "\n",
    "doublet_data = pd.read_csv(input_dir + 'doublet.txt', header=0, index_col=0)\n",
    "\n",
    "adata_Liver_Normal_2.obs['doublet_scores'] = doublet_data['doublet_scores']\n",
    "adata_Liver_Normal_2.obs['predicted_doublets'] = doublet_data['predicted_doublets']\n",
    "adata_Liver_Normal_2 = adata_Liver_Normal_2[adata_Liver_Normal_2.obs['predicted_doublets'] == False]\n",
    "adata_Liver_Normal_2"
   ]
  },
  {
   "cell_type": "markdown",
   "metadata": {},
   "source": [
    "### adata_Liver_Normal_3"
   ]
  },
  {
   "cell_type": "code",
   "execution_count": 26,
   "id": "f5f39726",
   "metadata": {},
   "outputs": [
    {
     "name": "stdout",
     "output_type": "stream",
     "text": [
      "Counts matrix shape: 4880 rows, 33538 columns\n",
      "Number of genes in gene list: 33538\n",
      "Preprocessing...\n",
      "Simulating doublets...\n",
      "Embedding transcriptomes using PCA...\n",
      "Calculating doublet scores...\n",
      "Automatically set threshold at doublet score = 0.38\n",
      "Detected doublet rate = 1.2%\n",
      "Estimated detectable doublet fraction = 22.7%\n",
      "Overall doublet rate:\n",
      "\tExpected   = 6.0%\n",
      "\tEstimated  = 5.1%\n",
      "Elapsed time: 3.3 seconds\n",
      "--> This might be very slow. Consider passing `cache=True`, which enables much faster reading from a cache file.\n"
     ]
    },
    {
     "data": {
      "text/plain": [
       "View of AnnData object with n_obs × n_vars = 4823 × 33538\n",
       "    obs: 'doublet_scores', 'predicted_doublets'\n",
       "    var: 'gene_ids', 'feature_types'"
      ]
     },
     "execution_count": 26,
     "metadata": {},
     "output_type": "execute_result"
    }
   ],
   "source": [
    "# 1. input_dir\n",
    "input_dir = '/Users/xuewei/ZxProjects/CRC/2023_GSE231559/00_backup/GSE231559_RAW/L3N/'\n",
    "\n",
    "# 2. input\n",
    "counts_matrix = scipy.io.mmread(input_dir + '/matrix.mtx.gz').T.tocsc()\n",
    "\n",
    "# genes = np.array(scr.load_genes(input_dir + '/features.tsv', delimiter='\\t', column=1))\n",
    "gz_file = input_dir + '/features.tsv.gz'\n",
    "decompressed_file = input_dir + '/features.tsv'\n",
    "with gzip.open(gz_file, 'rb') as f_in:\n",
    "    with open(decompressed_file, 'wb') as f_out:\n",
    "        shutil.copyfileobj(f_in, f_out)\n",
    "genes = np.array(scr.load_genes(decompressed_file, delimiter='\\t', column=1))\n",
    "os.remove(decompressed_file)\n",
    "\n",
    "out_df = pd.read_csv(input_dir + '/barcodes.tsv.gz', header = None, index_col=None, names=['barcode'])\n",
    "\n",
    "print('Counts matrix shape: {} rows, {} columns'.format(counts_matrix.shape[0], counts_matrix.shape[1]))\n",
    "print('Number of genes in gene list: {}'.format(len(genes)))\n",
    "\n",
    "# 3. Scrublet\n",
    "scrub = scr.Scrublet(counts_matrix, expected_doublet_rate=0.06)\n",
    "doublet_scores, predicted_doublets = scrub.scrub_doublets(min_counts=2, \n",
    "                                                          min_cells=3, \n",
    "                                                          min_gene_variability_pctl=85, \n",
    "                                                          n_prin_comps=30)\n",
    "\n",
    "# 5. save doublet.txt\n",
    "scrub.detected_doublet_rate_\n",
    "\n",
    "out_df['doublet_scores'] = doublet_scores\n",
    "out_df['predicted_doublets'] = predicted_doublets\n",
    "out_df.to_csv(input_dir + '/doublet.txt', index=False,header=True)\n",
    "# out_df.head()\n",
    "\n",
    "# 6. input data\n",
    "adata_Liver_Normal_3 = sc.read_10x_mtx('/Users/xuewei/ZxProjects/CRC/2023_GSE231559/00_backup/GSE231559_RAW/L3N/', var_names='gene_symbols', cache=False)\n",
    "adata_Liver_Normal_3.var_names_make_unique()\n",
    "\n",
    "doublet_data = pd.read_csv(input_dir + 'doublet.txt', header=0, index_col=0)\n",
    "\n",
    "adata_Liver_Normal_3.obs['doublet_scores'] = doublet_data['doublet_scores']\n",
    "adata_Liver_Normal_3.obs['predicted_doublets'] = doublet_data['predicted_doublets']\n",
    "adata_Liver_Normal_3 = adata_Liver_Normal_3[adata_Liver_Normal_3.obs['predicted_doublets'] == False]\n",
    "adata_Liver_Normal_3"
   ]
  },
  {
   "cell_type": "markdown",
   "metadata": {},
   "source": [
    "### adata_Liver_Normal_4 and adata_Liver_Tumor_4"
   ]
  },
  {
   "cell_type": "code",
   "execution_count": 27,
   "metadata": {},
   "outputs": [
    {
     "name": "stdout",
     "output_type": "stream",
     "text": [
      "Counts matrix shape: 3009 rows, 33538 columns\n",
      "Number of genes in gene list: 33538\n",
      "Preprocessing...\n",
      "Simulating doublets...\n",
      "Embedding transcriptomes using PCA...\n",
      "Calculating doublet scores...\n",
      "Automatically set threshold at doublet score = 0.52\n",
      "Detected doublet rate = 0.5%\n",
      "Estimated detectable doublet fraction = 8.6%\n",
      "Overall doublet rate:\n",
      "\tExpected   = 6.0%\n",
      "\tEstimated  = 6.2%\n",
      "Elapsed time: 2.2 seconds\n",
      "--> This might be very slow. Consider passing `cache=True`, which enables much faster reading from a cache file.\n"
     ]
    },
    {
     "data": {
      "text/plain": [
       "View of AnnData object with n_obs × n_vars = 2993 × 33538\n",
       "    obs: 'doublet_scores', 'predicted_doublets'\n",
       "    var: 'gene_ids', 'feature_types'"
      ]
     },
     "execution_count": 27,
     "metadata": {},
     "output_type": "execute_result"
    }
   ],
   "source": [
    "# 1. input_dir\n",
    "input_dir = '/Users/xuewei/ZxProjects/CRC/2023_GSE231559/00_backup/GSE231559_RAW/L4N/'\n",
    "\n",
    "# 2. input\n",
    "counts_matrix = scipy.io.mmread(input_dir + '/matrix.mtx.gz').T.tocsc()\n",
    "\n",
    "# genes = np.array(scr.load_genes(input_dir + '/features.tsv', delimiter='\\t', column=1))\n",
    "gz_file = input_dir + '/features.tsv.gz'\n",
    "decompressed_file = input_dir + '/features.tsv'\n",
    "with gzip.open(gz_file, 'rb') as f_in:\n",
    "    with open(decompressed_file, 'wb') as f_out:\n",
    "        shutil.copyfileobj(f_in, f_out)\n",
    "genes = np.array(scr.load_genes(decompressed_file, delimiter='\\t', column=1))\n",
    "os.remove(decompressed_file)\n",
    "\n",
    "out_df = pd.read_csv(input_dir + '/barcodes.tsv.gz', header = None, index_col=None, names=['barcode'])\n",
    "\n",
    "print('Counts matrix shape: {} rows, {} columns'.format(counts_matrix.shape[0], counts_matrix.shape[1]))\n",
    "print('Number of genes in gene list: {}'.format(len(genes)))\n",
    "\n",
    "# 3. Scrublet\n",
    "scrub = scr.Scrublet(counts_matrix, expected_doublet_rate=0.06)\n",
    "doublet_scores, predicted_doublets = scrub.scrub_doublets(min_counts=2, \n",
    "                                                          min_cells=3, \n",
    "                                                          min_gene_variability_pctl=85, \n",
    "                                                          n_prin_comps=30)\n",
    "\n",
    "# 5. save doublet.txt\n",
    "scrub.detected_doublet_rate_\n",
    "\n",
    "out_df['doublet_scores'] = doublet_scores\n",
    "out_df['predicted_doublets'] = predicted_doublets\n",
    "out_df.to_csv(input_dir + '/doublet.txt', index=False,header=True)\n",
    "# out_df.head()\n",
    "\n",
    "# 6. input data\n",
    "adata_Liver_Normal_4 = sc.read_10x_mtx('/Users/xuewei/ZxProjects/CRC/2023_GSE231559/00_backup/GSE231559_RAW/L4N/', var_names='gene_symbols', cache=False)\n",
    "adata_Liver_Normal_4.var_names_make_unique()\n",
    "\n",
    "doublet_data = pd.read_csv(input_dir + 'doublet.txt', header=0, index_col=0)\n",
    "\n",
    "adata_Liver_Normal_4.obs['doublet_scores'] = doublet_data['doublet_scores']\n",
    "adata_Liver_Normal_4.obs['predicted_doublets'] = doublet_data['predicted_doublets']\n",
    "adata_Liver_Normal_4 = adata_Liver_Normal_4[adata_Liver_Normal_4.obs['predicted_doublets'] == False]\n",
    "adata_Liver_Normal_4"
   ]
  },
  {
   "cell_type": "code",
   "execution_count": 28,
   "id": "72361331",
   "metadata": {},
   "outputs": [
    {
     "name": "stdout",
     "output_type": "stream",
     "text": [
      "Counts matrix shape: 3999 rows, 33538 columns\n",
      "Number of genes in gene list: 33538\n",
      "Preprocessing...\n",
      "Simulating doublets...\n",
      "Embedding transcriptomes using PCA...\n",
      "Calculating doublet scores...\n",
      "Automatically set threshold at doublet score = 0.36\n",
      "Detected doublet rate = 0.6%\n",
      "Estimated detectable doublet fraction = 16.8%\n",
      "Overall doublet rate:\n",
      "\tExpected   = 6.0%\n",
      "\tEstimated  = 3.7%\n",
      "Elapsed time: 3.5 seconds\n",
      "--> This might be very slow. Consider passing `cache=True`, which enables much faster reading from a cache file.\n"
     ]
    },
    {
     "data": {
      "text/plain": [
       "View of AnnData object with n_obs × n_vars = 3974 × 33538\n",
       "    obs: 'doublet_scores', 'predicted_doublets'\n",
       "    var: 'gene_ids', 'feature_types'"
      ]
     },
     "execution_count": 28,
     "metadata": {},
     "output_type": "execute_result"
    }
   ],
   "source": [
    "# 1. input_dir\n",
    "input_dir = '/Users/xuewei/ZxProjects/CRC/2023_GSE231559/00_backup/GSE231559_RAW/L4T/'\n",
    "\n",
    "# 2. input\n",
    "counts_matrix = scipy.io.mmread(input_dir + '/matrix.mtx.gz').T.tocsc()\n",
    "\n",
    "# genes = np.array(scr.load_genes(input_dir + '/features.tsv', delimiter='\\t', column=1))\n",
    "gz_file = input_dir + '/features.tsv.gz'\n",
    "decompressed_file = input_dir + '/features.tsv'\n",
    "with gzip.open(gz_file, 'rb') as f_in:\n",
    "    with open(decompressed_file, 'wb') as f_out:\n",
    "        shutil.copyfileobj(f_in, f_out)\n",
    "genes = np.array(scr.load_genes(decompressed_file, delimiter='\\t', column=1))\n",
    "os.remove(decompressed_file)\n",
    "\n",
    "out_df = pd.read_csv(input_dir + '/barcodes.tsv.gz', header = None, index_col=None, names=['barcode'])\n",
    "\n",
    "print('Counts matrix shape: {} rows, {} columns'.format(counts_matrix.shape[0], counts_matrix.shape[1]))\n",
    "print('Number of genes in gene list: {}'.format(len(genes)))\n",
    "\n",
    "# 3. Scrublet\n",
    "scrub = scr.Scrublet(counts_matrix, expected_doublet_rate=0.06)\n",
    "doublet_scores, predicted_doublets = scrub.scrub_doublets(min_counts=2, \n",
    "                                                          min_cells=3, \n",
    "                                                          min_gene_variability_pctl=85, \n",
    "                                                          n_prin_comps=30)\n",
    "\n",
    "# 5. save doublet.txt\n",
    "scrub.detected_doublet_rate_\n",
    "\n",
    "out_df['doublet_scores'] = doublet_scores\n",
    "out_df['predicted_doublets'] = predicted_doublets\n",
    "out_df.to_csv(input_dir + '/doublet.txt', index=False,header=True)\n",
    "# out_df.head()\n",
    "\n",
    "# 6. input data\n",
    "adata_Liver_Tumor_4 = sc.read_10x_mtx('/Users/xuewei/ZxProjects/CRC/2023_GSE231559/00_backup/GSE231559_RAW/L4T/', var_names='gene_symbols', cache=False)\n",
    "adata_Liver_Tumor_4.var_names_make_unique()\n",
    "\n",
    "doublet_data = pd.read_csv(input_dir + 'doublet.txt', header=0, index_col=0)\n",
    "\n",
    "adata_Liver_Tumor_4.obs['doublet_scores'] = doublet_data['doublet_scores']\n",
    "adata_Liver_Tumor_4.obs['predicted_doublets'] = doublet_data['predicted_doublets']\n",
    "adata_Liver_Tumor_4 = adata_Liver_Tumor_4[adata_Liver_Tumor_4.obs['predicted_doublets'] == False]\n",
    "adata_Liver_Tumor_4"
   ]
  },
  {
   "cell_type": "markdown",
   "metadata": {},
   "source": [
    "### adata_Liver_Normal_5"
   ]
  },
  {
   "cell_type": "code",
   "execution_count": 30,
   "id": "91c24db1",
   "metadata": {},
   "outputs": [
    {
     "name": "stdout",
     "output_type": "stream",
     "text": [
      "Counts matrix shape: 3375 rows, 33538 columns\n",
      "Number of genes in gene list: 33538\n",
      "Preprocessing...\n",
      "Simulating doublets...\n",
      "Embedding transcriptomes using PCA...\n",
      "Calculating doublet scores...\n",
      "Automatically set threshold at doublet score = 0.34\n",
      "Detected doublet rate = 0.8%\n",
      "Estimated detectable doublet fraction = 16.1%\n",
      "Overall doublet rate:\n",
      "\tExpected   = 6.0%\n",
      "\tEstimated  = 5.2%\n",
      "Elapsed time: 2.2 seconds\n",
      "--> This might be very slow. Consider passing `cache=True`, which enables much faster reading from a cache file.\n"
     ]
    },
    {
     "data": {
      "text/plain": [
       "View of AnnData object with n_obs × n_vars = 3347 × 33538\n",
       "    obs: 'doublet_scores', 'predicted_doublets'\n",
       "    var: 'gene_ids', 'feature_types'"
      ]
     },
     "execution_count": 30,
     "metadata": {},
     "output_type": "execute_result"
    }
   ],
   "source": [
    "# 1. input_dir\n",
    "input_dir = '/Users/xuewei/ZxProjects/CRC/2023_GSE231559/00_backup/GSE231559_RAW/L5N/'\n",
    "\n",
    "# 2. input\n",
    "counts_matrix = scipy.io.mmread(input_dir + '/matrix.mtx.gz').T.tocsc()\n",
    "\n",
    "# genes = np.array(scr.load_genes(input_dir + '/features.tsv', delimiter='\\t', column=1))\n",
    "gz_file = input_dir + '/features.tsv.gz'\n",
    "decompressed_file = input_dir + '/features.tsv'\n",
    "with gzip.open(gz_file, 'rb') as f_in:\n",
    "    with open(decompressed_file, 'wb') as f_out:\n",
    "        shutil.copyfileobj(f_in, f_out)\n",
    "genes = np.array(scr.load_genes(decompressed_file, delimiter='\\t', column=1))\n",
    "os.remove(decompressed_file)\n",
    "\n",
    "out_df = pd.read_csv(input_dir + '/barcodes.tsv.gz', header = None, index_col=None, names=['barcode'])\n",
    "\n",
    "print('Counts matrix shape: {} rows, {} columns'.format(counts_matrix.shape[0], counts_matrix.shape[1]))\n",
    "print('Number of genes in gene list: {}'.format(len(genes)))\n",
    "\n",
    "# 3. Scrublet\n",
    "scrub = scr.Scrublet(counts_matrix, expected_doublet_rate=0.06)\n",
    "doublet_scores, predicted_doublets = scrub.scrub_doublets(min_counts=2, \n",
    "                                                          min_cells=3, \n",
    "                                                          min_gene_variability_pctl=85, \n",
    "                                                          n_prin_comps=30)\n",
    "\n",
    "# 5. save doublet.txt\n",
    "scrub.detected_doublet_rate_\n",
    "\n",
    "out_df['doublet_scores'] = doublet_scores\n",
    "out_df['predicted_doublets'] = predicted_doublets\n",
    "out_df.to_csv(input_dir + '/doublet.txt', index=False,header=True)\n",
    "# out_df.head()\n",
    "\n",
    "# 6. input data\n",
    "adata_Liver_Normal_5 = sc.read_10x_mtx('/Users/xuewei/ZxProjects/CRC/2023_GSE231559/00_backup/GSE231559_RAW/L5N/', var_names='gene_symbols', cache=False)\n",
    "adata_Liver_Normal_5.var_names_make_unique()\n",
    "\n",
    "doublet_data = pd.read_csv(input_dir + 'doublet.txt', header=0, index_col=0)\n",
    "\n",
    "adata_Liver_Normal_5.obs['doublet_scores'] = doublet_data['doublet_scores']\n",
    "adata_Liver_Normal_5.obs['predicted_doublets'] = doublet_data['predicted_doublets']\n",
    "adata_Liver_Normal_5 = adata_Liver_Normal_5[adata_Liver_Normal_5.obs['predicted_doublets'] == False]\n",
    "adata_Liver_Normal_5"
   ]
  },
  {
   "cell_type": "markdown",
   "metadata": {},
   "source": [
    "### adata_Liver_Tumor_6"
   ]
  },
  {
   "cell_type": "code",
   "execution_count": 29,
   "id": "6d2c5c04",
   "metadata": {},
   "outputs": [
    {
     "name": "stdout",
     "output_type": "stream",
     "text": [
      "Counts matrix shape: 6082 rows, 33538 columns\n",
      "Number of genes in gene list: 33538\n",
      "Preprocessing...\n",
      "Simulating doublets...\n",
      "Embedding transcriptomes using PCA...\n",
      "Calculating doublet scores...\n",
      "Automatically set threshold at doublet score = 0.35\n",
      "Detected doublet rate = 1.2%\n",
      "Estimated detectable doublet fraction = 21.0%\n",
      "Overall doublet rate:\n",
      "\tExpected   = 6.0%\n",
      "\tEstimated  = 5.6%\n",
      "Elapsed time: 4.3 seconds\n",
      "--> This might be very slow. Consider passing `cache=True`, which enables much faster reading from a cache file.\n"
     ]
    },
    {
     "data": {
      "text/plain": [
       "View of AnnData object with n_obs × n_vars = 6011 × 33538\n",
       "    obs: 'doublet_scores', 'predicted_doublets'\n",
       "    var: 'gene_ids', 'feature_types'"
      ]
     },
     "execution_count": 29,
     "metadata": {},
     "output_type": "execute_result"
    }
   ],
   "source": [
    "# 1. input_dir\n",
    "input_dir = '/Users/xuewei/ZxProjects/CRC/2023_GSE231559/00_backup/GSE231559_RAW/L6T/'\n",
    "\n",
    "# 2. input\n",
    "counts_matrix = scipy.io.mmread(input_dir + '/matrix.mtx.gz').T.tocsc()\n",
    "\n",
    "# genes = np.array(scr.load_genes(input_dir + '/features.tsv', delimiter='\\t', column=1))\n",
    "gz_file = input_dir + '/features.tsv.gz'\n",
    "decompressed_file = input_dir + '/features.tsv'\n",
    "with gzip.open(gz_file, 'rb') as f_in:\n",
    "    with open(decompressed_file, 'wb') as f_out:\n",
    "        shutil.copyfileobj(f_in, f_out)\n",
    "genes = np.array(scr.load_genes(decompressed_file, delimiter='\\t', column=1))\n",
    "os.remove(decompressed_file)\n",
    "\n",
    "out_df = pd.read_csv(input_dir + '/barcodes.tsv.gz', header = None, index_col=None, names=['barcode'])\n",
    "\n",
    "print('Counts matrix shape: {} rows, {} columns'.format(counts_matrix.shape[0], counts_matrix.shape[1]))\n",
    "print('Number of genes in gene list: {}'.format(len(genes)))\n",
    "\n",
    "# 3. Scrublet\n",
    "scrub = scr.Scrublet(counts_matrix, expected_doublet_rate=0.06)\n",
    "doublet_scores, predicted_doublets = scrub.scrub_doublets(min_counts=2, \n",
    "                                                          min_cells=3, \n",
    "                                                          min_gene_variability_pctl=85, \n",
    "                                                          n_prin_comps=30)\n",
    "\n",
    "# 5. save doublet.txt\n",
    "scrub.detected_doublet_rate_\n",
    "\n",
    "out_df['doublet_scores'] = doublet_scores\n",
    "out_df['predicted_doublets'] = predicted_doublets\n",
    "out_df.to_csv(input_dir + '/doublet.txt', index=False,header=True)\n",
    "# out_df.head()\n",
    "\n",
    "# 6. input data\n",
    "adata_Liver_Tumor_6 = sc.read_10x_mtx('/Users/xuewei/ZxProjects/CRC/2023_GSE231559/00_backup/GSE231559_RAW/L6T/', var_names='gene_symbols', cache=False)\n",
    "adata_Liver_Tumor_6.var_names_make_unique()\n",
    "\n",
    "doublet_data = pd.read_csv(input_dir + 'doublet.txt', header=0, index_col=0)\n",
    "\n",
    "adata_Liver_Tumor_6.obs['doublet_scores'] = doublet_data['doublet_scores']\n",
    "adata_Liver_Tumor_6.obs['predicted_doublets'] = doublet_data['predicted_doublets']\n",
    "adata_Liver_Tumor_6 = adata_Liver_Tumor_6[adata_Liver_Tumor_6.obs['predicted_doublets'] == False]\n",
    "adata_Liver_Tumor_6"
   ]
  },
  {
   "cell_type": "markdown",
   "metadata": {},
   "source": [
    "### adata_Liver_Normal_7"
   ]
  },
  {
   "cell_type": "code",
   "execution_count": 31,
   "id": "443f0bf9",
   "metadata": {},
   "outputs": [
    {
     "name": "stdout",
     "output_type": "stream",
     "text": [
      "Counts matrix shape: 1312 rows, 33538 columns\n",
      "Number of genes in gene list: 33538\n",
      "Preprocessing...\n",
      "Simulating doublets...\n",
      "Embedding transcriptomes using PCA...\n",
      "Calculating doublet scores...\n",
      "Automatically set threshold at doublet score = 0.42\n",
      "Detected doublet rate = 0.0%\n",
      "Estimated detectable doublet fraction = 4.6%\n",
      "Overall doublet rate:\n",
      "\tExpected   = 6.0%\n",
      "\tEstimated  = 0.0%\n",
      "Elapsed time: 0.7 seconds\n",
      "--> This might be very slow. Consider passing `cache=True`, which enables much faster reading from a cache file.\n"
     ]
    },
    {
     "data": {
      "text/plain": [
       "View of AnnData object with n_obs × n_vars = 1312 × 33538\n",
       "    obs: 'doublet_scores', 'predicted_doublets'\n",
       "    var: 'gene_ids', 'feature_types'"
      ]
     },
     "execution_count": 31,
     "metadata": {},
     "output_type": "execute_result"
    }
   ],
   "source": [
    "# 1. input_dir\n",
    "input_dir = '/Users/xuewei/ZxProjects/CRC/2023_GSE231559/00_backup/GSE231559_RAW/L7N/'\n",
    "\n",
    "# 2. input\n",
    "counts_matrix = scipy.io.mmread(input_dir + '/matrix.mtx.gz').T.tocsc()\n",
    "\n",
    "# genes = np.array(scr.load_genes(input_dir + '/features.tsv', delimiter='\\t', column=1))\n",
    "gz_file = input_dir + '/features.tsv.gz'\n",
    "decompressed_file = input_dir + '/features.tsv'\n",
    "with gzip.open(gz_file, 'rb') as f_in:\n",
    "    with open(decompressed_file, 'wb') as f_out:\n",
    "        shutil.copyfileobj(f_in, f_out)\n",
    "genes = np.array(scr.load_genes(decompressed_file, delimiter='\\t', column=1))\n",
    "os.remove(decompressed_file)\n",
    "\n",
    "out_df = pd.read_csv(input_dir + '/barcodes.tsv.gz', header = None, index_col=None, names=['barcode'])\n",
    "\n",
    "print('Counts matrix shape: {} rows, {} columns'.format(counts_matrix.shape[0], counts_matrix.shape[1]))\n",
    "print('Number of genes in gene list: {}'.format(len(genes)))\n",
    "\n",
    "# 3. Scrublet\n",
    "scrub = scr.Scrublet(counts_matrix, expected_doublet_rate=0.06)\n",
    "doublet_scores, predicted_doublets = scrub.scrub_doublets(min_counts=2, \n",
    "                                                          min_cells=3, \n",
    "                                                          min_gene_variability_pctl=85, \n",
    "                                                          n_prin_comps=30)\n",
    "\n",
    "# 5. save doublet.txt\n",
    "scrub.detected_doublet_rate_\n",
    "\n",
    "out_df['doublet_scores'] = doublet_scores\n",
    "out_df['predicted_doublets'] = predicted_doublets\n",
    "out_df.to_csv(input_dir + '/doublet.txt', index=False,header=True)\n",
    "# out_df.head()\n",
    "\n",
    "# 6. input data\n",
    "adata_Liver_Normal_7 = sc.read_10x_mtx('/Users/xuewei/ZxProjects/CRC/2023_GSE231559/00_backup/GSE231559_RAW/L7N/', var_names='gene_symbols', cache=False)\n",
    "adata_Liver_Normal_7.var_names_make_unique()\n",
    "\n",
    "doublet_data = pd.read_csv(input_dir + 'doublet.txt', header=0, index_col=0)\n",
    "\n",
    "adata_Liver_Normal_7.obs['doublet_scores'] = doublet_data['doublet_scores']\n",
    "adata_Liver_Normal_7.obs['predicted_doublets'] = doublet_data['predicted_doublets']\n",
    "adata_Liver_Normal_7 = adata_Liver_Normal_7[adata_Liver_Normal_7.obs['predicted_doublets'] == False]\n",
    "adata_Liver_Normal_7"
   ]
  },
  {
   "cell_type": "markdown",
   "metadata": {},
   "source": [
    "### adata_Liver_Tumor_8_1 and adata_Liver_Tumor_8_2"
   ]
  },
  {
   "cell_type": "code",
   "execution_count": 32,
   "id": "53c62269",
   "metadata": {},
   "outputs": [
    {
     "name": "stdout",
     "output_type": "stream",
     "text": [
      "Counts matrix shape: 3123 rows, 36601 columns\n",
      "Number of genes in gene list: 36601\n",
      "Preprocessing...\n",
      "Simulating doublets...\n",
      "Embedding transcriptomes using PCA...\n",
      "Calculating doublet scores...\n",
      "Automatically set threshold at doublet score = 0.52\n",
      "Detected doublet rate = 0.1%\n",
      "Estimated detectable doublet fraction = 2.4%\n",
      "Overall doublet rate:\n",
      "\tExpected   = 6.0%\n",
      "\tEstimated  = 2.7%\n",
      "Elapsed time: 2.1 seconds\n",
      "--> This might be very slow. Consider passing `cache=True`, which enables much faster reading from a cache file.\n"
     ]
    },
    {
     "data": {
      "text/plain": [
       "View of AnnData object with n_obs × n_vars = 3121 × 36601\n",
       "    obs: 'doublet_scores', 'predicted_doublets'\n",
       "    var: 'gene_ids', 'feature_types'"
      ]
     },
     "execution_count": 32,
     "metadata": {},
     "output_type": "execute_result"
    }
   ],
   "source": [
    "# 1. input_dir\n",
    "input_dir = '/Users/xuewei/ZxProjects/CRC/2023_GSE231559/00_backup/GSE231559_RAW/L8T1/'\n",
    "\n",
    "# 2. input\n",
    "counts_matrix = scipy.io.mmread(input_dir + '/matrix.mtx.gz').T.tocsc()\n",
    "\n",
    "# genes = np.array(scr.load_genes(input_dir + '/features.tsv', delimiter='\\t', column=1))\n",
    "gz_file = input_dir + '/features.tsv.gz'\n",
    "decompressed_file = input_dir + '/features.tsv'\n",
    "with gzip.open(gz_file, 'rb') as f_in:\n",
    "    with open(decompressed_file, 'wb') as f_out:\n",
    "        shutil.copyfileobj(f_in, f_out)\n",
    "genes = np.array(scr.load_genes(decompressed_file, delimiter='\\t', column=1))\n",
    "os.remove(decompressed_file)\n",
    "\n",
    "out_df = pd.read_csv(input_dir + '/barcodes.tsv.gz', header = None, index_col=None, names=['barcode'])\n",
    "\n",
    "print('Counts matrix shape: {} rows, {} columns'.format(counts_matrix.shape[0], counts_matrix.shape[1]))\n",
    "print('Number of genes in gene list: {}'.format(len(genes)))\n",
    "\n",
    "# 3. Scrublet\n",
    "scrub = scr.Scrublet(counts_matrix, expected_doublet_rate=0.06)\n",
    "doublet_scores, predicted_doublets = scrub.scrub_doublets(min_counts=2, \n",
    "                                                          min_cells=3, \n",
    "                                                          min_gene_variability_pctl=85, \n",
    "                                                          n_prin_comps=30)\n",
    "\n",
    "# 5. save doublet.txt\n",
    "scrub.detected_doublet_rate_\n",
    "\n",
    "out_df['doublet_scores'] = doublet_scores\n",
    "out_df['predicted_doublets'] = predicted_doublets\n",
    "out_df.to_csv(input_dir + '/doublet.txt', index=False,header=True)\n",
    "# out_df.head()\n",
    "\n",
    "# 6. input data\n",
    "adata_Liver_Tumor_8_1 = sc.read_10x_mtx('/Users/xuewei/ZxProjects/CRC/2023_GSE231559/00_backup/GSE231559_RAW/L8T1/', var_names='gene_symbols', cache=False)\n",
    "adata_Liver_Tumor_8_1.var_names_make_unique()\n",
    "\n",
    "doublet_data = pd.read_csv(input_dir + 'doublet.txt', header=0, index_col=0)\n",
    "\n",
    "adata_Liver_Tumor_8_1.obs['doublet_scores'] = doublet_data['doublet_scores']\n",
    "adata_Liver_Tumor_8_1.obs['predicted_doublets'] = doublet_data['predicted_doublets']\n",
    "adata_Liver_Tumor_8_1 = adata_Liver_Tumor_8_1[adata_Liver_Tumor_8_1.obs['predicted_doublets'] == False]\n",
    "adata_Liver_Tumor_8_1"
   ]
  },
  {
   "cell_type": "code",
   "execution_count": 33,
   "metadata": {},
   "outputs": [
    {
     "name": "stdout",
     "output_type": "stream",
     "text": [
      "Counts matrix shape: 1646 rows, 36601 columns\n",
      "Number of genes in gene list: 36601\n",
      "Preprocessing...\n",
      "Simulating doublets...\n",
      "Embedding transcriptomes using PCA...\n",
      "Calculating doublet scores...\n",
      "Automatically set threshold at doublet score = 0.42\n",
      "Detected doublet rate = 0.1%\n",
      "Estimated detectable doublet fraction = 7.9%\n",
      "Overall doublet rate:\n",
      "\tExpected   = 6.0%\n",
      "\tEstimated  = 1.5%\n",
      "Elapsed time: 1.0 seconds\n",
      "--> This might be very slow. Consider passing `cache=True`, which enables much faster reading from a cache file.\n"
     ]
    },
    {
     "data": {
      "text/plain": [
       "View of AnnData object with n_obs × n_vars = 1644 × 36601\n",
       "    obs: 'doublet_scores', 'predicted_doublets'\n",
       "    var: 'gene_ids', 'feature_types'"
      ]
     },
     "execution_count": 33,
     "metadata": {},
     "output_type": "execute_result"
    }
   ],
   "source": [
    "# 1. input_dir\n",
    "input_dir = '/Users/xuewei/ZxProjects/CRC/2023_GSE231559/00_backup/GSE231559_RAW/L8T2/'\n",
    "\n",
    "# 2. input\n",
    "counts_matrix = scipy.io.mmread(input_dir + '/matrix.mtx.gz').T.tocsc()\n",
    "\n",
    "# genes = np.array(scr.load_genes(input_dir + '/features.tsv', delimiter='\\t', column=1))\n",
    "gz_file = input_dir + '/features.tsv.gz'\n",
    "decompressed_file = input_dir + '/features.tsv'\n",
    "with gzip.open(gz_file, 'rb') as f_in:\n",
    "    with open(decompressed_file, 'wb') as f_out:\n",
    "        shutil.copyfileobj(f_in, f_out)\n",
    "genes = np.array(scr.load_genes(decompressed_file, delimiter='\\t', column=1))\n",
    "os.remove(decompressed_file)\n",
    "\n",
    "out_df = pd.read_csv(input_dir + '/barcodes.tsv.gz', header = None, index_col=None, names=['barcode'])\n",
    "\n",
    "print('Counts matrix shape: {} rows, {} columns'.format(counts_matrix.shape[0], counts_matrix.shape[1]))\n",
    "print('Number of genes in gene list: {}'.format(len(genes)))\n",
    "\n",
    "# 3. Scrublet\n",
    "scrub = scr.Scrublet(counts_matrix, expected_doublet_rate=0.06)\n",
    "doublet_scores, predicted_doublets = scrub.scrub_doublets(min_counts=2, \n",
    "                                                          min_cells=3, \n",
    "                                                          min_gene_variability_pctl=85, \n",
    "                                                          n_prin_comps=30)\n",
    "\n",
    "# 5. save doublet.txt\n",
    "scrub.detected_doublet_rate_\n",
    "\n",
    "out_df['doublet_scores'] = doublet_scores\n",
    "out_df['predicted_doublets'] = predicted_doublets\n",
    "out_df.to_csv(input_dir + '/doublet.txt', index=False,header=True)\n",
    "# out_df.head()\n",
    "\n",
    "# 6. input data\n",
    "adata_Liver_Tumor_8_2 = sc.read_10x_mtx('/Users/xuewei/ZxProjects/CRC/2023_GSE231559/00_backup/GSE231559_RAW/L8T2/', var_names='gene_symbols', cache=False)\n",
    "adata_Liver_Tumor_8_2.var_names_make_unique()\n",
    "\n",
    "doublet_data = pd.read_csv(input_dir + 'doublet.txt', header=0, index_col=0)\n",
    "\n",
    "adata_Liver_Tumor_8_2.obs['doublet_scores'] = doublet_data['doublet_scores']\n",
    "adata_Liver_Tumor_8_2.obs['predicted_doublets'] = doublet_data['predicted_doublets']\n",
    "adata_Liver_Tumor_8_2 = adata_Liver_Tumor_8_2[adata_Liver_Tumor_8_2.obs['predicted_doublets'] == False]\n",
    "adata_Liver_Tumor_8_2"
   ]
  },
  {
   "cell_type": "markdown",
   "metadata": {},
   "source": [
    "### adata_Liver_Normal_9 and adata_Liver_Tumor_9"
   ]
  },
  {
   "cell_type": "code",
   "execution_count": 34,
   "id": "60170a2e",
   "metadata": {},
   "outputs": [
    {
     "name": "stdout",
     "output_type": "stream",
     "text": [
      "Counts matrix shape: 5218 rows, 36601 columns\n",
      "Number of genes in gene list: 36601\n",
      "Preprocessing...\n",
      "Simulating doublets...\n",
      "Embedding transcriptomes using PCA...\n",
      "Calculating doublet scores...\n",
      "Automatically set threshold at doublet score = 0.30\n",
      "Detected doublet rate = 1.0%\n",
      "Estimated detectable doublet fraction = 20.6%\n",
      "Overall doublet rate:\n",
      "\tExpected   = 6.0%\n",
      "\tEstimated  = 4.8%\n",
      "Elapsed time: 4.0 seconds\n",
      "--> This might be very slow. Consider passing `cache=True`, which enables much faster reading from a cache file.\n"
     ]
    },
    {
     "data": {
      "text/plain": [
       "View of AnnData object with n_obs × n_vars = 5166 × 36601\n",
       "    obs: 'doublet_scores', 'predicted_doublets'\n",
       "    var: 'gene_ids', 'feature_types'"
      ]
     },
     "execution_count": 34,
     "metadata": {},
     "output_type": "execute_result"
    }
   ],
   "source": [
    "# 1. input_dir\n",
    "input_dir = '/Users/xuewei/ZxProjects/CRC/2023_GSE231559/00_backup/GSE231559_RAW/L9N/'\n",
    "\n",
    "# 2. input\n",
    "counts_matrix = scipy.io.mmread(input_dir + '/matrix.mtx.gz').T.tocsc()\n",
    "\n",
    "# genes = np.array(scr.load_genes(input_dir + '/features.tsv', delimiter='\\t', column=1))\n",
    "gz_file = input_dir + '/features.tsv.gz'\n",
    "decompressed_file = input_dir + '/features.tsv'\n",
    "with gzip.open(gz_file, 'rb') as f_in:\n",
    "    with open(decompressed_file, 'wb') as f_out:\n",
    "        shutil.copyfileobj(f_in, f_out)\n",
    "genes = np.array(scr.load_genes(decompressed_file, delimiter='\\t', column=1))\n",
    "os.remove(decompressed_file)\n",
    "\n",
    "out_df = pd.read_csv(input_dir + '/barcodes.tsv.gz', header = None, index_col=None, names=['barcode'])\n",
    "\n",
    "print('Counts matrix shape: {} rows, {} columns'.format(counts_matrix.shape[0], counts_matrix.shape[1]))\n",
    "print('Number of genes in gene list: {}'.format(len(genes)))\n",
    "\n",
    "# 3. Scrublet\n",
    "scrub = scr.Scrublet(counts_matrix, expected_doublet_rate=0.06)\n",
    "doublet_scores, predicted_doublets = scrub.scrub_doublets(min_counts=2, \n",
    "                                                          min_cells=3, \n",
    "                                                          min_gene_variability_pctl=85, \n",
    "                                                          n_prin_comps=30)\n",
    "\n",
    "# 5. save doublet.txt\n",
    "scrub.detected_doublet_rate_\n",
    "\n",
    "out_df['doublet_scores'] = doublet_scores\n",
    "out_df['predicted_doublets'] = predicted_doublets\n",
    "out_df.to_csv(input_dir + '/doublet.txt', index=False,header=True)\n",
    "# out_df.head()\n",
    "\n",
    "# 6. input data\n",
    "adata_Liver_Normal_9 = sc.read_10x_mtx('/Users/xuewei/ZxProjects/CRC/2023_GSE231559/00_backup/GSE231559_RAW/L9N/', var_names='gene_symbols', cache=False)\n",
    "adata_Liver_Normal_9.var_names_make_unique()\n",
    "\n",
    "doublet_data = pd.read_csv(input_dir + 'doublet.txt', header=0, index_col=0)\n",
    "\n",
    "adata_Liver_Normal_9.obs['doublet_scores'] = doublet_data['doublet_scores']\n",
    "adata_Liver_Normal_9.obs['predicted_doublets'] = doublet_data['predicted_doublets']\n",
    "adata_Liver_Normal_9 = adata_Liver_Normal_9[adata_Liver_Normal_9.obs['predicted_doublets'] == False]\n",
    "adata_Liver_Normal_9"
   ]
  },
  {
   "cell_type": "code",
   "execution_count": 35,
   "metadata": {},
   "outputs": [
    {
     "name": "stdout",
     "output_type": "stream",
     "text": [
      "Counts matrix shape: 10009 rows, 36601 columns\n",
      "Number of genes in gene list: 36601\n",
      "Preprocessing...\n",
      "Simulating doublets...\n",
      "Embedding transcriptomes using PCA...\n",
      "Calculating doublet scores...\n",
      "Automatically set threshold at doublet score = 0.59\n",
      "Detected doublet rate = 0.0%\n",
      "Estimated detectable doublet fraction = 0.2%\n",
      "Overall doublet rate:\n",
      "\tExpected   = 6.0%\n",
      "\tEstimated  = 0.0%\n",
      "Elapsed time: 9.0 seconds\n",
      "--> This might be very slow. Consider passing `cache=True`, which enables much faster reading from a cache file.\n"
     ]
    },
    {
     "data": {
      "text/plain": [
       "View of AnnData object with n_obs × n_vars = 10009 × 36601\n",
       "    obs: 'doublet_scores', 'predicted_doublets'\n",
       "    var: 'gene_ids', 'feature_types'"
      ]
     },
     "execution_count": 35,
     "metadata": {},
     "output_type": "execute_result"
    }
   ],
   "source": [
    "# 1. input_dir\n",
    "input_dir = '/Users/xuewei/ZxProjects/CRC/2023_GSE231559/00_backup/GSE231559_RAW/L9T/'\n",
    "\n",
    "# 2. input\n",
    "counts_matrix = scipy.io.mmread(input_dir + '/matrix.mtx.gz').T.tocsc()\n",
    "\n",
    "# genes = np.array(scr.load_genes(input_dir + '/features.tsv', delimiter='\\t', column=1))\n",
    "gz_file = input_dir + '/features.tsv.gz'\n",
    "decompressed_file = input_dir + '/features.tsv'\n",
    "with gzip.open(gz_file, 'rb') as f_in:\n",
    "    with open(decompressed_file, 'wb') as f_out:\n",
    "        shutil.copyfileobj(f_in, f_out)\n",
    "genes = np.array(scr.load_genes(decompressed_file, delimiter='\\t', column=1))\n",
    "os.remove(decompressed_file)\n",
    "\n",
    "out_df = pd.read_csv(input_dir + '/barcodes.tsv.gz', header = None, index_col=None, names=['barcode'])\n",
    "\n",
    "print('Counts matrix shape: {} rows, {} columns'.format(counts_matrix.shape[0], counts_matrix.shape[1]))\n",
    "print('Number of genes in gene list: {}'.format(len(genes)))\n",
    "\n",
    "# 3. Scrublet\n",
    "scrub = scr.Scrublet(counts_matrix, expected_doublet_rate=0.06)\n",
    "doublet_scores, predicted_doublets = scrub.scrub_doublets(min_counts=2, \n",
    "                                                          min_cells=3, \n",
    "                                                          min_gene_variability_pctl=85, \n",
    "                                                          n_prin_comps=30)\n",
    "\n",
    "# 5. save doublet.txt\n",
    "scrub.detected_doublet_rate_\n",
    "\n",
    "out_df['doublet_scores'] = doublet_scores\n",
    "out_df['predicted_doublets'] = predicted_doublets\n",
    "out_df.to_csv(input_dir + '/doublet.txt', index=False,header=True)\n",
    "# out_df.head()\n",
    "\n",
    "# 6. input data\n",
    "adata_Liver_Tumor_9 = sc.read_10x_mtx('/Users/xuewei/ZxProjects/CRC/2023_GSE231559/00_backup/GSE231559_RAW/L9T/', var_names='gene_symbols', cache=False)\n",
    "adata_Liver_Tumor_9.var_names_make_unique()\n",
    "\n",
    "doublet_data = pd.read_csv(input_dir + 'doublet.txt', header=0, index_col=0)\n",
    "\n",
    "adata_Liver_Tumor_9.obs['doublet_scores'] = doublet_data['doublet_scores']\n",
    "adata_Liver_Tumor_9.obs['predicted_doublets'] = doublet_data['predicted_doublets']\n",
    "adata_Liver_Tumor_9 = adata_Liver_Tumor_9[adata_Liver_Tumor_9.obs['predicted_doublets'] == False]\n",
    "adata_Liver_Tumor_9"
   ]
  },
  {
   "cell_type": "markdown",
   "metadata": {},
   "source": [
    "### adata_Liver_Tumor_10"
   ]
  },
  {
   "cell_type": "code",
   "execution_count": 36,
   "id": "9ec273c9",
   "metadata": {},
   "outputs": [
    {
     "name": "stdout",
     "output_type": "stream",
     "text": [
      "Counts matrix shape: 8378 rows, 36601 columns\n",
      "Number of genes in gene list: 36601\n",
      "Preprocessing...\n",
      "Simulating doublets...\n",
      "Embedding transcriptomes using PCA...\n",
      "Calculating doublet scores...\n",
      "Automatically set threshold at doublet score = 0.65\n",
      "Detected doublet rate = 0.0%\n",
      "Estimated detectable doublet fraction = 1.2%\n",
      "Overall doublet rate:\n",
      "\tExpected   = 6.0%\n",
      "\tEstimated  = 1.9%\n",
      "Elapsed time: 6.0 seconds\n",
      "--> This might be very slow. Consider passing `cache=True`, which enables much faster reading from a cache file.\n"
     ]
    },
    {
     "data": {
      "text/plain": [
       "View of AnnData object with n_obs × n_vars = 8376 × 36601\n",
       "    obs: 'doublet_scores', 'predicted_doublets'\n",
       "    var: 'gene_ids', 'feature_types'"
      ]
     },
     "execution_count": 36,
     "metadata": {},
     "output_type": "execute_result"
    }
   ],
   "source": [
    "# 1. input_dir\n",
    "input_dir = '/Users/xuewei/ZxProjects/CRC/2023_GSE231559/00_backup/GSE231559_RAW/L10T/'\n",
    "\n",
    "# 2. input\n",
    "counts_matrix = scipy.io.mmread(input_dir + '/matrix.mtx.gz').T.tocsc()\n",
    "\n",
    "# genes = np.array(scr.load_genes(input_dir + '/features.tsv', delimiter='\\t', column=1))\n",
    "gz_file = input_dir + '/features.tsv.gz'\n",
    "decompressed_file = input_dir + '/features.tsv'\n",
    "with gzip.open(gz_file, 'rb') as f_in:\n",
    "    with open(decompressed_file, 'wb') as f_out:\n",
    "        shutil.copyfileobj(f_in, f_out)\n",
    "genes = np.array(scr.load_genes(decompressed_file, delimiter='\\t', column=1))\n",
    "os.remove(decompressed_file)\n",
    "\n",
    "out_df = pd.read_csv(input_dir + '/barcodes.tsv.gz', header = None, index_col=None, names=['barcode'])\n",
    "\n",
    "print('Counts matrix shape: {} rows, {} columns'.format(counts_matrix.shape[0], counts_matrix.shape[1]))\n",
    "print('Number of genes in gene list: {}'.format(len(genes)))\n",
    "\n",
    "# 3. Scrublet\n",
    "scrub = scr.Scrublet(counts_matrix, expected_doublet_rate=0.06)\n",
    "doublet_scores, predicted_doublets = scrub.scrub_doublets(min_counts=2, \n",
    "                                                          min_cells=3, \n",
    "                                                          min_gene_variability_pctl=85, \n",
    "                                                          n_prin_comps=30)\n",
    "\n",
    "# 5. save doublet.txt\n",
    "scrub.detected_doublet_rate_\n",
    "\n",
    "out_df['doublet_scores'] = doublet_scores\n",
    "out_df['predicted_doublets'] = predicted_doublets\n",
    "out_df.to_csv(input_dir + '/doublet.txt', index=False,header=True)\n",
    "# out_df.head()\n",
    "\n",
    "# 6. input data\n",
    "adata_Liver_Tumor_10 = sc.read_10x_mtx('/Users/xuewei/ZxProjects/CRC/2023_GSE231559/00_backup/GSE231559_RAW/L10T/', var_names='gene_symbols', cache=False)\n",
    "adata_Liver_Tumor_10.var_names_make_unique()\n",
    "\n",
    "doublet_data = pd.read_csv(input_dir + 'doublet.txt', header=0, index_col=0)\n",
    "\n",
    "adata_Liver_Tumor_10.obs['doublet_scores'] = doublet_data['doublet_scores']\n",
    "adata_Liver_Tumor_10.obs['predicted_doublets'] = doublet_data['predicted_doublets']\n",
    "adata_Liver_Tumor_10 = adata_Liver_Tumor_10[adata_Liver_Tumor_10.obs['predicted_doublets'] == False]\n",
    "adata_Liver_Tumor_10"
   ]
  },
  {
   "cell_type": "markdown",
   "metadata": {},
   "source": [
    "### adata_Liver_Normal_11 and adata_Liver_Tumor_11"
   ]
  },
  {
   "cell_type": "code",
   "execution_count": 37,
   "id": "7a761a91",
   "metadata": {},
   "outputs": [
    {
     "name": "stdout",
     "output_type": "stream",
     "text": [
      "Counts matrix shape: 274 rows, 36601 columns\n",
      "Number of genes in gene list: 36601\n",
      "Preprocessing...\n",
      "Simulating doublets...\n",
      "Embedding transcriptomes using PCA...\n",
      "Calculating doublet scores...\n",
      "Automatically set threshold at doublet score = 0.25\n",
      "Detected doublet rate = 7.3%\n",
      "Estimated detectable doublet fraction = 5.8%\n",
      "Overall doublet rate:\n",
      "\tExpected   = 6.0%\n",
      "\tEstimated  = 125.0%\n",
      "Elapsed time: 0.1 seconds\n",
      "--> This might be very slow. Consider passing `cache=True`, which enables much faster reading from a cache file.\n"
     ]
    },
    {
     "data": {
      "text/plain": [
       "View of AnnData object with n_obs × n_vars = 254 × 36601\n",
       "    obs: 'doublet_scores', 'predicted_doublets'\n",
       "    var: 'gene_ids', 'feature_types'"
      ]
     },
     "execution_count": 37,
     "metadata": {},
     "output_type": "execute_result"
    }
   ],
   "source": [
    "# 1. input_dir\n",
    "input_dir = '/Users/xuewei/ZxProjects/CRC/2023_GSE231559/00_backup/GSE231559_RAW/L11N/'\n",
    "\n",
    "# 2. input\n",
    "counts_matrix = scipy.io.mmread(input_dir + '/matrix.mtx.gz').T.tocsc()\n",
    "\n",
    "# genes = np.array(scr.load_genes(input_dir + '/features.tsv', delimiter='\\t', column=1))\n",
    "gz_file = input_dir + '/features.tsv.gz'\n",
    "decompressed_file = input_dir + '/features.tsv'\n",
    "with gzip.open(gz_file, 'rb') as f_in:\n",
    "    with open(decompressed_file, 'wb') as f_out:\n",
    "        shutil.copyfileobj(f_in, f_out)\n",
    "genes = np.array(scr.load_genes(decompressed_file, delimiter='\\t', column=1))\n",
    "os.remove(decompressed_file)\n",
    "\n",
    "out_df = pd.read_csv(input_dir + '/barcodes.tsv.gz', header = None, index_col=None, names=['barcode'])\n",
    "\n",
    "print('Counts matrix shape: {} rows, {} columns'.format(counts_matrix.shape[0], counts_matrix.shape[1]))\n",
    "print('Number of genes in gene list: {}'.format(len(genes)))\n",
    "\n",
    "# 3. Scrublet\n",
    "scrub = scr.Scrublet(counts_matrix, expected_doublet_rate=0.06)\n",
    "doublet_scores, predicted_doublets = scrub.scrub_doublets(min_counts=2, \n",
    "                                                          min_cells=3, \n",
    "                                                          min_gene_variability_pctl=85, \n",
    "                                                          n_prin_comps=30)\n",
    "\n",
    "# 5. save doublet.txt\n",
    "scrub.detected_doublet_rate_\n",
    "\n",
    "out_df['doublet_scores'] = doublet_scores\n",
    "out_df['predicted_doublets'] = predicted_doublets\n",
    "out_df.to_csv(input_dir + '/doublet.txt', index=False,header=True)\n",
    "# out_df.head()\n",
    "\n",
    "# 6. input data\n",
    "adata_Liver_Normal_11 = sc.read_10x_mtx('/Users/xuewei/ZxProjects/CRC/2023_GSE231559/00_backup/GSE231559_RAW/L11N/', var_names='gene_symbols', cache=False)\n",
    "adata_Liver_Normal_11.var_names_make_unique()\n",
    "\n",
    "doublet_data = pd.read_csv(input_dir + 'doublet.txt', header=0, index_col=0)\n",
    "\n",
    "adata_Liver_Normal_11.obs['doublet_scores'] = doublet_data['doublet_scores']\n",
    "adata_Liver_Normal_11.obs['predicted_doublets'] = doublet_data['predicted_doublets']\n",
    "adata_Liver_Normal_11 = adata_Liver_Normal_11[adata_Liver_Normal_11.obs['predicted_doublets'] == False]\n",
    "adata_Liver_Normal_11"
   ]
  },
  {
   "cell_type": "code",
   "execution_count": 38,
   "metadata": {},
   "outputs": [
    {
     "name": "stdout",
     "output_type": "stream",
     "text": [
      "Counts matrix shape: 9476 rows, 36601 columns\n",
      "Number of genes in gene list: 36601\n",
      "Preprocessing...\n",
      "Simulating doublets...\n",
      "Embedding transcriptomes using PCA...\n",
      "Calculating doublet scores...\n",
      "Automatically set threshold at doublet score = 0.58\n",
      "Detected doublet rate = 0.0%\n",
      "Estimated detectable doublet fraction = 0.2%\n",
      "Overall doublet rate:\n",
      "\tExpected   = 6.0%\n",
      "\tEstimated  = 8.5%\n",
      "Elapsed time: 7.3 seconds\n",
      "--> This might be very slow. Consider passing `cache=True`, which enables much faster reading from a cache file.\n"
     ]
    },
    {
     "data": {
      "text/plain": [
       "View of AnnData object with n_obs × n_vars = 9474 × 36601\n",
       "    obs: 'doublet_scores', 'predicted_doublets'\n",
       "    var: 'gene_ids', 'feature_types'"
      ]
     },
     "execution_count": 38,
     "metadata": {},
     "output_type": "execute_result"
    }
   ],
   "source": [
    "# 1. input_dir\n",
    "input_dir = '/Users/xuewei/ZxProjects/CRC/2023_GSE231559/00_backup/GSE231559_RAW/L11T/'\n",
    "\n",
    "# 2. input\n",
    "counts_matrix = scipy.io.mmread(input_dir + '/matrix.mtx.gz').T.tocsc()\n",
    "\n",
    "# genes = np.array(scr.load_genes(input_dir + '/features.tsv', delimiter='\\t', column=1))\n",
    "gz_file = input_dir + '/features.tsv.gz'\n",
    "decompressed_file = input_dir + '/features.tsv'\n",
    "with gzip.open(gz_file, 'rb') as f_in:\n",
    "    with open(decompressed_file, 'wb') as f_out:\n",
    "        shutil.copyfileobj(f_in, f_out)\n",
    "genes = np.array(scr.load_genes(decompressed_file, delimiter='\\t', column=1))\n",
    "os.remove(decompressed_file)\n",
    "\n",
    "out_df = pd.read_csv(input_dir + '/barcodes.tsv.gz', header = None, index_col=None, names=['barcode'])\n",
    "\n",
    "print('Counts matrix shape: {} rows, {} columns'.format(counts_matrix.shape[0], counts_matrix.shape[1]))\n",
    "print('Number of genes in gene list: {}'.format(len(genes)))\n",
    "\n",
    "# 3. Scrublet\n",
    "scrub = scr.Scrublet(counts_matrix, expected_doublet_rate=0.06)\n",
    "doublet_scores, predicted_doublets = scrub.scrub_doublets(min_counts=2, \n",
    "                                                          min_cells=3, \n",
    "                                                          min_gene_variability_pctl=85, \n",
    "                                                          n_prin_comps=30)\n",
    "\n",
    "# 5. save doublet.txt\n",
    "scrub.detected_doublet_rate_\n",
    "\n",
    "out_df['doublet_scores'] = doublet_scores\n",
    "out_df['predicted_doublets'] = predicted_doublets\n",
    "out_df.to_csv(input_dir + '/doublet.txt', index=False,header=True)\n",
    "# out_df.head()\n",
    "\n",
    "# 6. input data\n",
    "adata_Liver_Tumor_11 = sc.read_10x_mtx('/Users/xuewei/ZxProjects/CRC/2023_GSE231559/00_backup/GSE231559_RAW/L11T/', var_names='gene_symbols', cache=False)\n",
    "adata_Liver_Tumor_11.var_names_make_unique()\n",
    "\n",
    "doublet_data = pd.read_csv(input_dir + 'doublet.txt', header=0, index_col=0)\n",
    "\n",
    "adata_Liver_Tumor_11.obs['doublet_scores'] = doublet_data['doublet_scores']\n",
    "adata_Liver_Tumor_11.obs['predicted_doublets'] = doublet_data['predicted_doublets']\n",
    "adata_Liver_Tumor_11 = adata_Liver_Tumor_11[adata_Liver_Tumor_11.obs['predicted_doublets'] == False]\n",
    "adata_Liver_Tumor_11"
   ]
  },
  {
   "cell_type": "markdown",
   "metadata": {},
   "source": [
    "### adata_Liver_Tumor_12"
   ]
  },
  {
   "cell_type": "code",
   "execution_count": 39,
   "id": "bbba42cf",
   "metadata": {},
   "outputs": [
    {
     "name": "stdout",
     "output_type": "stream",
     "text": [
      "Counts matrix shape: 10119 rows, 36601 columns\n",
      "Number of genes in gene list: 36601\n",
      "Preprocessing...\n",
      "Simulating doublets...\n",
      "Embedding transcriptomes using PCA...\n",
      "Calculating doublet scores...\n",
      "Automatically set threshold at doublet score = 0.42\n",
      "Detected doublet rate = 0.0%\n",
      "Estimated detectable doublet fraction = 0.0%\n",
      "Overall doublet rate:\n",
      "\tExpected   = 6.0%\n",
      "\tEstimated  = 57.1%\n",
      "Elapsed time: 8.3 seconds\n",
      "--> This might be very slow. Consider passing `cache=True`, which enables much faster reading from a cache file.\n"
     ]
    },
    {
     "data": {
      "text/plain": [
       "View of AnnData object with n_obs × n_vars = 10117 × 36601\n",
       "    obs: 'doublet_scores', 'predicted_doublets'\n",
       "    var: 'gene_ids', 'feature_types'"
      ]
     },
     "execution_count": 39,
     "metadata": {},
     "output_type": "execute_result"
    }
   ],
   "source": [
    "# 1. input_dir\n",
    "input_dir = '/Users/xuewei/ZxProjects/CRC/2023_GSE231559/00_backup/GSE231559_RAW/L12T/'\n",
    "\n",
    "# 2. input\n",
    "counts_matrix = scipy.io.mmread(input_dir + '/matrix.mtx.gz').T.tocsc()\n",
    "\n",
    "# genes = np.array(scr.load_genes(input_dir + '/features.tsv', delimiter='\\t', column=1))\n",
    "gz_file = input_dir + '/features.tsv.gz'\n",
    "decompressed_file = input_dir + '/features.tsv'\n",
    "with gzip.open(gz_file, 'rb') as f_in:\n",
    "    with open(decompressed_file, 'wb') as f_out:\n",
    "        shutil.copyfileobj(f_in, f_out)\n",
    "genes = np.array(scr.load_genes(decompressed_file, delimiter='\\t', column=1))\n",
    "os.remove(decompressed_file)\n",
    "\n",
    "out_df = pd.read_csv(input_dir + '/barcodes.tsv.gz', header = None, index_col=None, names=['barcode'])\n",
    "\n",
    "print('Counts matrix shape: {} rows, {} columns'.format(counts_matrix.shape[0], counts_matrix.shape[1]))\n",
    "print('Number of genes in gene list: {}'.format(len(genes)))\n",
    "\n",
    "# 3. Scrublet\n",
    "scrub = scr.Scrublet(counts_matrix, expected_doublet_rate=0.06)\n",
    "doublet_scores, predicted_doublets = scrub.scrub_doublets(min_counts=2, \n",
    "                                                          min_cells=3, \n",
    "                                                          min_gene_variability_pctl=85, \n",
    "                                                          n_prin_comps=30)\n",
    "\n",
    "# 5. save doublet.txt\n",
    "scrub.detected_doublet_rate_\n",
    "\n",
    "out_df['doublet_scores'] = doublet_scores\n",
    "out_df['predicted_doublets'] = predicted_doublets\n",
    "out_df.to_csv(input_dir + '/doublet.txt', index=False,header=True)\n",
    "# out_df.head()\n",
    "\n",
    "# 6. input data\n",
    "adata_Liver_Tumor_12 = sc.read_10x_mtx('/Users/xuewei/ZxProjects/CRC/2023_GSE231559/00_backup/GSE231559_RAW/L12T/', var_names='gene_symbols', cache=False)\n",
    "adata_Liver_Tumor_12.var_names_make_unique()\n",
    "\n",
    "doublet_data = pd.read_csv(input_dir + 'doublet.txt', header=0, index_col=0)\n",
    "\n",
    "adata_Liver_Tumor_12.obs['doublet_scores'] = doublet_data['doublet_scores']\n",
    "adata_Liver_Tumor_12.obs['predicted_doublets'] = doublet_data['predicted_doublets']\n",
    "adata_Liver_Tumor_12 = adata_Liver_Tumor_12[adata_Liver_Tumor_12.obs['predicted_doublets'] == False]\n",
    "adata_Liver_Tumor_12"
   ]
  },
  {
   "attachments": {},
   "cell_type": "markdown",
   "id": "7a19f90c",
   "metadata": {},
   "source": [
    "### Label with sample id"
   ]
  },
  {
   "cell_type": "code",
   "execution_count": 40,
   "id": "b2acdc3c",
   "metadata": {},
   "outputs": [
    {
     "name": "stderr",
     "output_type": "stream",
     "text": [
      "/var/folders/nt/95vmy3614zd_8x3sv2ktwn7c0000gp/T/ipykernel_38254/297197394.py:1: ImplicitModificationWarning: Trying to modify attribute `.obs` of view, initializing view as actual.\n",
      "  adata_Colon_Normal_1.obs[\"batch\"] = \"Col_N_1\"\n",
      "/var/folders/nt/95vmy3614zd_8x3sv2ktwn7c0000gp/T/ipykernel_38254/297197394.py:2: ImplicitModificationWarning: Trying to modify attribute `.obs` of view, initializing view as actual.\n",
      "  adata_Colon_Tumor_1.obs[\"batch\"] = \"Col_T_1\"\n",
      "/var/folders/nt/95vmy3614zd_8x3sv2ktwn7c0000gp/T/ipykernel_38254/297197394.py:4: ImplicitModificationWarning: Trying to modify attribute `.obs` of view, initializing view as actual.\n",
      "  adata_Colon_Normal_2.obs[\"batch\"] = \"Col_N_2\"\n",
      "/var/folders/nt/95vmy3614zd_8x3sv2ktwn7c0000gp/T/ipykernel_38254/297197394.py:5: ImplicitModificationWarning: Trying to modify attribute `.obs` of view, initializing view as actual.\n",
      "  adata_Colon_Tumor_2.obs[\"batch\"] = \"Col_T_2\"\n",
      "/var/folders/nt/95vmy3614zd_8x3sv2ktwn7c0000gp/T/ipykernel_38254/297197394.py:7: ImplicitModificationWarning: Trying to modify attribute `.obs` of view, initializing view as actual.\n",
      "  adata_Colon_Normal_3.obs[\"batch\"] = \"Col_N_3\"\n",
      "/var/folders/nt/95vmy3614zd_8x3sv2ktwn7c0000gp/T/ipykernel_38254/297197394.py:8: ImplicitModificationWarning: Trying to modify attribute `.obs` of view, initializing view as actual.\n",
      "  adata_Colon_Tumor_3.obs[\"batch\"] = \"Col_T_3\"\n",
      "/var/folders/nt/95vmy3614zd_8x3sv2ktwn7c0000gp/T/ipykernel_38254/297197394.py:10: ImplicitModificationWarning: Trying to modify attribute `.obs` of view, initializing view as actual.\n",
      "  adata_Colon_Tumor_4.obs[\"batch\"] = \"Col_T_4\"\n",
      "/var/folders/nt/95vmy3614zd_8x3sv2ktwn7c0000gp/T/ipykernel_38254/297197394.py:11: ImplicitModificationWarning: Trying to modify attribute `.obs` of view, initializing view as actual.\n",
      "  adata_Colon_Tumor_5.obs[\"batch\"] = \"Col_T_5\"\n",
      "/var/folders/nt/95vmy3614zd_8x3sv2ktwn7c0000gp/T/ipykernel_38254/297197394.py:12: ImplicitModificationWarning: Trying to modify attribute `.obs` of view, initializing view as actual.\n",
      "  adata_Colon_Tumor_6.obs[\"batch\"] = \"Col_T_6\"\n",
      "/var/folders/nt/95vmy3614zd_8x3sv2ktwn7c0000gp/T/ipykernel_38254/297197394.py:15: ImplicitModificationWarning: Trying to modify attribute `.obs` of view, initializing view as actual.\n",
      "  adata_Liver_Tumor_1.obs[\"batch\"] = \"Liv_T_1\"\n",
      "/var/folders/nt/95vmy3614zd_8x3sv2ktwn7c0000gp/T/ipykernel_38254/297197394.py:17: ImplicitModificationWarning: Trying to modify attribute `.obs` of view, initializing view as actual.\n",
      "  adata_Liver_Normal_2.obs[\"batch\"] = \"Liv_N_2\"\n",
      "/var/folders/nt/95vmy3614zd_8x3sv2ktwn7c0000gp/T/ipykernel_38254/297197394.py:19: ImplicitModificationWarning: Trying to modify attribute `.obs` of view, initializing view as actual.\n",
      "  adata_Liver_Normal_3.obs[\"batch\"] = \"Liv_N_3\"\n",
      "/var/folders/nt/95vmy3614zd_8x3sv2ktwn7c0000gp/T/ipykernel_38254/297197394.py:21: ImplicitModificationWarning: Trying to modify attribute `.obs` of view, initializing view as actual.\n",
      "  adata_Liver_Normal_4.obs[\"batch\"] = \"Liv_N_4\"\n",
      "/var/folders/nt/95vmy3614zd_8x3sv2ktwn7c0000gp/T/ipykernel_38254/297197394.py:22: ImplicitModificationWarning: Trying to modify attribute `.obs` of view, initializing view as actual.\n",
      "  adata_Liver_Tumor_4.obs[\"batch\"] = \"Liv_T_4\"\n",
      "/var/folders/nt/95vmy3614zd_8x3sv2ktwn7c0000gp/T/ipykernel_38254/297197394.py:24: ImplicitModificationWarning: Trying to modify attribute `.obs` of view, initializing view as actual.\n",
      "  adata_Liver_Normal_5.obs[\"batch\"] = \"Liv_N_5\"\n",
      "/var/folders/nt/95vmy3614zd_8x3sv2ktwn7c0000gp/T/ipykernel_38254/297197394.py:26: ImplicitModificationWarning: Trying to modify attribute `.obs` of view, initializing view as actual.\n",
      "  adata_Liver_Tumor_6.obs[\"batch\"] = \"Liv_T_6\"\n",
      "/var/folders/nt/95vmy3614zd_8x3sv2ktwn7c0000gp/T/ipykernel_38254/297197394.py:28: ImplicitModificationWarning: Trying to modify attribute `.obs` of view, initializing view as actual.\n",
      "  adata_Liver_Normal_7.obs[\"batch\"] = \"Liv_N_7\"\n",
      "/var/folders/nt/95vmy3614zd_8x3sv2ktwn7c0000gp/T/ipykernel_38254/297197394.py:30: ImplicitModificationWarning: Trying to modify attribute `.obs` of view, initializing view as actual.\n",
      "  adata_Liver_Tumor_8_1.obs[\"batch\"] = \"Liv_T_8_1\"\n",
      "/var/folders/nt/95vmy3614zd_8x3sv2ktwn7c0000gp/T/ipykernel_38254/297197394.py:31: ImplicitModificationWarning: Trying to modify attribute `.obs` of view, initializing view as actual.\n",
      "  adata_Liver_Tumor_8_2.obs[\"batch\"] = \"Liv_T_8_2\"\n",
      "/var/folders/nt/95vmy3614zd_8x3sv2ktwn7c0000gp/T/ipykernel_38254/297197394.py:33: ImplicitModificationWarning: Trying to modify attribute `.obs` of view, initializing view as actual.\n",
      "  adata_Liver_Normal_9.obs[\"batch\"] = \"Liv_N_9\"\n",
      "/var/folders/nt/95vmy3614zd_8x3sv2ktwn7c0000gp/T/ipykernel_38254/297197394.py:34: ImplicitModificationWarning: Trying to modify attribute `.obs` of view, initializing view as actual.\n",
      "  adata_Liver_Tumor_9.obs[\"batch\"] = \"Liv_T_9\"\n",
      "/var/folders/nt/95vmy3614zd_8x3sv2ktwn7c0000gp/T/ipykernel_38254/297197394.py:36: ImplicitModificationWarning: Trying to modify attribute `.obs` of view, initializing view as actual.\n",
      "  adata_Liver_Tumor_10.obs[\"batch\"] = \"Liv_T_10\"\n",
      "/var/folders/nt/95vmy3614zd_8x3sv2ktwn7c0000gp/T/ipykernel_38254/297197394.py:38: ImplicitModificationWarning: Trying to modify attribute `.obs` of view, initializing view as actual.\n",
      "  adata_Liver_Normal_11.obs[\"batch\"] = \"Liv_N_11\"\n",
      "/var/folders/nt/95vmy3614zd_8x3sv2ktwn7c0000gp/T/ipykernel_38254/297197394.py:39: ImplicitModificationWarning: Trying to modify attribute `.obs` of view, initializing view as actual.\n",
      "  adata_Liver_Tumor_11.obs[\"batch\"] = \"Liv_T_11\"\n",
      "/var/folders/nt/95vmy3614zd_8x3sv2ktwn7c0000gp/T/ipykernel_38254/297197394.py:41: ImplicitModificationWarning: Trying to modify attribute `.obs` of view, initializing view as actual.\n",
      "  adata_Liver_Tumor_12.obs[\"batch\"] = \"Liv_T_12\"\n"
     ]
    }
   ],
   "source": [
    "adata_Colon_Normal_1.obs[\"batch\"] = \"Col_N_1\"\n",
    "adata_Colon_Tumor_1.obs[\"batch\"] = \"Col_T_1\"\n",
    "\n",
    "adata_Colon_Normal_2.obs[\"batch\"] = \"Col_N_2\"\n",
    "adata_Colon_Tumor_2.obs[\"batch\"] = \"Col_T_2\"\n",
    "\n",
    "adata_Colon_Normal_3.obs[\"batch\"] = \"Col_N_3\"\n",
    "adata_Colon_Tumor_3.obs[\"batch\"] = \"Col_T_3\"\n",
    "\n",
    "adata_Colon_Tumor_4.obs[\"batch\"] = \"Col_T_4\"\n",
    "adata_Colon_Tumor_5.obs[\"batch\"] = \"Col_T_5\"\n",
    "adata_Colon_Tumor_6.obs[\"batch\"] = \"Col_T_6\"\n",
    "\n",
    "adata_Liver_Normal_1.obs[\"batch\"] = \"Liv_N_1\"\n",
    "adata_Liver_Tumor_1.obs[\"batch\"] = \"Liv_T_1\"\n",
    "\n",
    "adata_Liver_Normal_2.obs[\"batch\"] = \"Liv_N_2\"\n",
    "\n",
    "adata_Liver_Normal_3.obs[\"batch\"] = \"Liv_N_3\"\n",
    "\n",
    "adata_Liver_Normal_4.obs[\"batch\"] = \"Liv_N_4\"\n",
    "adata_Liver_Tumor_4.obs[\"batch\"] = \"Liv_T_4\"\n",
    "\n",
    "adata_Liver_Normal_5.obs[\"batch\"] = \"Liv_N_5\"\n",
    "\n",
    "adata_Liver_Tumor_6.obs[\"batch\"] = \"Liv_T_6\"\n",
    "\n",
    "adata_Liver_Normal_7.obs[\"batch\"] = \"Liv_N_7\"\n",
    "\n",
    "adata_Liver_Tumor_8_1.obs[\"batch\"] = \"Liv_T_8_1\"\n",
    "adata_Liver_Tumor_8_2.obs[\"batch\"] = \"Liv_T_8_2\"\n",
    "\n",
    "adata_Liver_Normal_9.obs[\"batch\"] = \"Liv_N_9\"\n",
    "adata_Liver_Tumor_9.obs[\"batch\"] = \"Liv_T_9\"\n",
    "\n",
    "adata_Liver_Tumor_10.obs[\"batch\"] = \"Liv_T_10\"\n",
    "\n",
    "adata_Liver_Normal_11.obs[\"batch\"] = \"Liv_N_11\"\n",
    "adata_Liver_Tumor_11.obs[\"batch\"] = \"Liv_T_11\"\n",
    "\n",
    "adata_Liver_Tumor_12.obs[\"batch\"] = \"Liv_T_12\""
   ]
  },
  {
   "cell_type": "code",
   "execution_count": 41,
   "id": "2b7b9d0a",
   "metadata": {},
   "outputs": [
    {
     "name": "stdout",
     "output_type": "stream",
     "text": [
      "adata_Colon_Normal_1: (6131, 33538) \n",
      "adata_Colon_Tumor_1: (6256, 33538) \n",
      "adata_Colon_Normal_2: (8130, 33538) \n",
      "adata_Colon_Tumor_2: (4799, 33538) \n",
      "adata_Colon_Normal_3: (5930, 33538) \n",
      "adata_Colon_Tumor_3: (8945, 33538) \n",
      "adata_Colon_Tumor_4: (3357, 33538) \n",
      "adata_Colon_Tumor_5: (4881, 33538) \n",
      "adata_Colon_Tumor_6: (6, 33538) \n",
      "adata_Liver_Normal_1: (3570, 33538) \n",
      "adata_Liver_Tumor_1: (3269, 33538) \n",
      "adata_Liver_Normal_2: (3283, 33538) \n",
      "adata_Liver_Normal_3: (4823, 33538) \n",
      "adata_Liver_Normal_4: (2993, 33538) \n",
      "adata_Liver_Tumor_4: (3974, 33538) \n",
      "adata_Liver_Normal_5: (3347, 33538) \n",
      "adata_Liver_Tumor_6: (6011, 33538) \n",
      "adata_Liver_Normal_7: (1312, 33538) \n",
      "adata_Liver_Tumor_8_1: (3121, 36601) \n",
      "adata_Liver_Tumor_8_2: (1644, 36601) \n",
      "adata_Liver_Normal_9: (5166, 36601) \n",
      "adata_Liver_Tumor_9: (10009, 36601) \n",
      "adata_Liver_Tumor_10: (8376, 36601) \n",
      "adata_Liver_Normal_11: (254, 36601) \n",
      "adata_Liver_Tumor_11: (9474, 36601) \n",
      "adata_Liver_Tumor_12: (10117, 36601)\n"
     ]
    }
   ],
   "source": [
    "print(\"adata_Colon_Normal_1:\", adata_Colon_Normal_1.shape,\n",
    "    \"\\nadata_Colon_Tumor_1:\", adata_Colon_Tumor_1.shape, \n",
    "    \"\\nadata_Colon_Normal_2:\", adata_Colon_Normal_2.shape, \n",
    "    \"\\nadata_Colon_Tumor_2:\", adata_Colon_Tumor_2.shape, \n",
    "    \"\\nadata_Colon_Normal_3:\", adata_Colon_Normal_3.shape, \n",
    "    \"\\nadata_Colon_Tumor_3:\", adata_Colon_Tumor_3.shape, \n",
    "    \"\\nadata_Colon_Tumor_4:\", adata_Colon_Tumor_4.shape, \n",
    "    \"\\nadata_Colon_Tumor_5:\", adata_Colon_Tumor_5.shape, \n",
    "    \"\\nadata_Colon_Tumor_6:\", adata_Colon_Tumor_6.shape, \n",
    "    \"\\nadata_Liver_Normal_1:\", adata_Liver_Normal_1.shape, \n",
    "    \"\\nadata_Liver_Tumor_1:\", adata_Liver_Tumor_1.shape, \n",
    "    \"\\nadata_Liver_Normal_2:\", adata_Liver_Normal_2.shape, \n",
    "    \"\\nadata_Liver_Normal_3:\", adata_Liver_Normal_3.shape, \n",
    "    \"\\nadata_Liver_Normal_4:\", adata_Liver_Normal_4.shape, \n",
    "    \"\\nadata_Liver_Tumor_4:\", adata_Liver_Tumor_4.shape, \n",
    "    \"\\nadata_Liver_Normal_5:\", adata_Liver_Normal_5.shape, \n",
    "    \"\\nadata_Liver_Tumor_6:\", adata_Liver_Tumor_6.shape, \n",
    "    \"\\nadata_Liver_Normal_7:\", adata_Liver_Normal_7.shape, \n",
    "    \"\\nadata_Liver_Tumor_8_1:\", adata_Liver_Tumor_8_1.shape, \n",
    "    \"\\nadata_Liver_Tumor_8_2:\", adata_Liver_Tumor_8_2.shape, \n",
    "    \"\\nadata_Liver_Normal_9:\", adata_Liver_Normal_9.shape, \n",
    "    \"\\nadata_Liver_Tumor_9:\", adata_Liver_Tumor_9.shape, \n",
    "    \"\\nadata_Liver_Tumor_10:\", adata_Liver_Tumor_10.shape, \n",
    "    \"\\nadata_Liver_Normal_11:\", adata_Liver_Normal_11.shape, \n",
    "    \"\\nadata_Liver_Tumor_11:\", adata_Liver_Tumor_11.shape, \n",
    "    \"\\nadata_Liver_Tumor_12:\", adata_Liver_Tumor_12.shape, \n",
    "    \n",
    "    )"
   ]
  },
  {
   "cell_type": "code",
   "execution_count": 42,
   "id": "e47b09c9",
   "metadata": {},
   "outputs": [
    {
     "name": "stderr",
     "output_type": "stream",
     "text": [
      "/Users/xuewei/ZeroData/softwares/miniconda3/lib/python3.9/site-packages/anndata/_core/anndata.py:1828: UserWarning: Observation names are not unique. To make them unique, call `.obs_names_make_unique`.\n",
      "  utils.warn_names_duplicates(\"obs\")\n"
     ]
    }
   ],
   "source": [
    "adList = [adata_Colon_Normal_1, adata_Colon_Tumor_1, adata_Colon_Normal_2, adata_Colon_Normal_2, adata_Colon_Normal_3, adata_Colon_Tumor_3,\n",
    "          adata_Colon_Tumor_4, adata_Colon_Tumor_5, adata_Colon_Tumor_5, \n",
    "          adata_Liver_Normal_1, adata_Liver_Tumor_1, adata_Liver_Normal_2, adata_Liver_Normal_3, adata_Liver_Normal_4, adata_Liver_Tumor_4,\n",
    "          adata_Liver_Normal_5, adata_Liver_Tumor_6, adata_Liver_Normal_7, adata_Liver_Tumor_8_1, adata_Liver_Tumor_8_2, adata_Liver_Normal_9, \n",
    "          adata_Liver_Tumor_9, adata_Liver_Tumor_10, adata_Liver_Normal_11, adata_Liver_Tumor_11, adata_Liver_Tumor_12]\n",
    "ad_all = ad.concat(adList, join='outer')\n",
    "ad_all.var_names_make_unique()\n",
    "ad_all.obs_names_make_unique()\n",
    "sc.pp.calculate_qc_metrics(ad_all, percent_top=None,log1p=False,inplace=True)"
   ]
  },
  {
   "cell_type": "code",
   "execution_count": 26,
   "id": "be7b4b50",
   "metadata": {},
   "outputs": [],
   "source": [
    "# ad_all2 = sc.AnnData.concatenate(adata_NT1, adata_PT1, adata_PT2, adata_PT3, adata_LN1, adata_LN2, adata_Li1, adata_Li2, adata_OV1, adata_PM1, join='outer')\n",
    "# ad_all2.var_names_make_unique()\n",
    "# ad_all2.obs_names_make_unique()\n",
    "# sc.pp.calculate_qc_metrics(ad_all2, percent_top=None,log1p=False,inplace=True)\n",
    "# ad_all2.obs['batch2'] = ad_all2.obs['batch'].replace([\"0\", \"1\", \"2\", \"3\", \"4\", \"5\", \"6\", \"7\", \"8\", \"9\"], ['NT1', 'PT1', \"PT2\", \"PT3\", \"LN1\", \"LN2\", \"Li1\", \"Li2\", \"OV1\", \"PM1\"])"
   ]
  },
  {
   "cell_type": "code",
   "execution_count": 43,
   "id": "d40c2810",
   "metadata": {},
   "outputs": [
    {
     "data": {
      "text/plain": [
       "AnnData object with n_obs × n_vars = 137384 × 38224\n",
       "    obs: 'doublet_scores', 'predicted_doublets', 'batch', 'n_genes_by_counts', 'total_counts'\n",
       "    var: 'n_cells_by_counts', 'mean_counts', 'pct_dropout_by_counts', 'total_counts'"
      ]
     },
     "execution_count": 43,
     "metadata": {},
     "output_type": "execute_result"
    }
   ],
   "source": [
    "adata = ad_all\n",
    "adata"
   ]
  },
  {
   "cell_type": "code",
   "execution_count": 47,
   "metadata": {},
   "outputs": [
    {
     "data": {
      "text/html": [
       "<div>\n",
       "<style scoped>\n",
       "    .dataframe tbody tr th:only-of-type {\n",
       "        vertical-align: middle;\n",
       "    }\n",
       "\n",
       "    .dataframe tbody tr th {\n",
       "        vertical-align: top;\n",
       "    }\n",
       "\n",
       "    .dataframe thead th {\n",
       "        text-align: right;\n",
       "    }\n",
       "</style>\n",
       "<table border=\"1\" class=\"dataframe\">\n",
       "  <thead>\n",
       "    <tr style=\"text-align: right;\">\n",
       "      <th></th>\n",
       "      <th>doublet_scores</th>\n",
       "      <th>predicted_doublets</th>\n",
       "      <th>batch</th>\n",
       "      <th>n_genes_by_counts</th>\n",
       "      <th>total_counts</th>\n",
       "    </tr>\n",
       "  </thead>\n",
       "  <tbody>\n",
       "    <tr>\n",
       "      <th>AAACCCAAGAGAGCCT-1</th>\n",
       "      <td>0.059294</td>\n",
       "      <td>False</td>\n",
       "      <td>Col_N_1</td>\n",
       "      <td>689</td>\n",
       "      <td>3664.0</td>\n",
       "    </tr>\n",
       "    <tr>\n",
       "      <th>AAACCCAAGGGTATAT-1</th>\n",
       "      <td>0.034660</td>\n",
       "      <td>False</td>\n",
       "      <td>Col_N_1</td>\n",
       "      <td>66</td>\n",
       "      <td>779.0</td>\n",
       "    </tr>\n",
       "    <tr>\n",
       "      <th>AAACCCAAGTCCCGAC-1</th>\n",
       "      <td>0.073892</td>\n",
       "      <td>False</td>\n",
       "      <td>Col_N_1</td>\n",
       "      <td>1811</td>\n",
       "      <td>11293.0</td>\n",
       "    </tr>\n",
       "    <tr>\n",
       "      <th>AAACCCACATTAAGCC-1</th>\n",
       "      <td>0.038224</td>\n",
       "      <td>False</td>\n",
       "      <td>Col_N_1</td>\n",
       "      <td>998</td>\n",
       "      <td>2686.0</td>\n",
       "    </tr>\n",
       "    <tr>\n",
       "      <th>AAACCCAGTGTTCCAA-1</th>\n",
       "      <td>0.055276</td>\n",
       "      <td>False</td>\n",
       "      <td>Col_N_1</td>\n",
       "      <td>192</td>\n",
       "      <td>741.0</td>\n",
       "    </tr>\n",
       "    <tr>\n",
       "      <th>...</th>\n",
       "      <td>...</td>\n",
       "      <td>...</td>\n",
       "      <td>...</td>\n",
       "      <td>...</td>\n",
       "      <td>...</td>\n",
       "    </tr>\n",
       "    <tr>\n",
       "      <th>TTTGTTGAGAGGTTTA-1</th>\n",
       "      <td>0.110772</td>\n",
       "      <td>False</td>\n",
       "      <td>Liv_T_12</td>\n",
       "      <td>953</td>\n",
       "      <td>2525.0</td>\n",
       "    </tr>\n",
       "    <tr>\n",
       "      <th>TTTGTTGAGCTACGTT-1</th>\n",
       "      <td>0.016799</td>\n",
       "      <td>False</td>\n",
       "      <td>Liv_T_12</td>\n",
       "      <td>305</td>\n",
       "      <td>583.0</td>\n",
       "    </tr>\n",
       "    <tr>\n",
       "      <th>TTTGTTGCACACCTTC-1</th>\n",
       "      <td>0.016799</td>\n",
       "      <td>False</td>\n",
       "      <td>Liv_T_12</td>\n",
       "      <td>224</td>\n",
       "      <td>588.0</td>\n",
       "    </tr>\n",
       "    <tr>\n",
       "      <th>TTTGTTGCATATCTGG-1</th>\n",
       "      <td>0.017282</td>\n",
       "      <td>False</td>\n",
       "      <td>Liv_T_12</td>\n",
       "      <td>300</td>\n",
       "      <td>840.0</td>\n",
       "    </tr>\n",
       "    <tr>\n",
       "      <th>TTTGTTGGTTTGGCTA-1</th>\n",
       "      <td>0.046653</td>\n",
       "      <td>False</td>\n",
       "      <td>Liv_T_12</td>\n",
       "      <td>1061</td>\n",
       "      <td>2860.0</td>\n",
       "    </tr>\n",
       "  </tbody>\n",
       "</table>\n",
       "<p>137384 rows × 5 columns</p>\n",
       "</div>"
      ],
      "text/plain": [
       "                    doublet_scores predicted_doublets     batch  \\\n",
       "AAACCCAAGAGAGCCT-1        0.059294              False   Col_N_1   \n",
       "AAACCCAAGGGTATAT-1        0.034660              False   Col_N_1   \n",
       "AAACCCAAGTCCCGAC-1        0.073892              False   Col_N_1   \n",
       "AAACCCACATTAAGCC-1        0.038224              False   Col_N_1   \n",
       "AAACCCAGTGTTCCAA-1        0.055276              False   Col_N_1   \n",
       "...                            ...                ...       ...   \n",
       "TTTGTTGAGAGGTTTA-1        0.110772              False  Liv_T_12   \n",
       "TTTGTTGAGCTACGTT-1        0.016799              False  Liv_T_12   \n",
       "TTTGTTGCACACCTTC-1        0.016799              False  Liv_T_12   \n",
       "TTTGTTGCATATCTGG-1        0.017282              False  Liv_T_12   \n",
       "TTTGTTGGTTTGGCTA-1        0.046653              False  Liv_T_12   \n",
       "\n",
       "                    n_genes_by_counts  total_counts  \n",
       "AAACCCAAGAGAGCCT-1                689        3664.0  \n",
       "AAACCCAAGGGTATAT-1                 66         779.0  \n",
       "AAACCCAAGTCCCGAC-1               1811       11293.0  \n",
       "AAACCCACATTAAGCC-1                998        2686.0  \n",
       "AAACCCAGTGTTCCAA-1                192         741.0  \n",
       "...                               ...           ...  \n",
       "TTTGTTGAGAGGTTTA-1                953        2525.0  \n",
       "TTTGTTGAGCTACGTT-1                305         583.0  \n",
       "TTTGTTGCACACCTTC-1                224         588.0  \n",
       "TTTGTTGCATATCTGG-1                300         840.0  \n",
       "TTTGTTGGTTTGGCTA-1               1061        2860.0  \n",
       "\n",
       "[137384 rows x 5 columns]"
      ]
     },
     "execution_count": 47,
     "metadata": {},
     "output_type": "execute_result"
    }
   ],
   "source": [
    "adata.obs"
   ]
  },
  {
   "cell_type": "code",
   "execution_count": 48,
   "metadata": {},
   "outputs": [],
   "source": [
    "adata_backup = adata.copy()"
   ]
  },
  {
   "cell_type": "code",
   "execution_count": 49,
   "metadata": {},
   "outputs": [],
   "source": [
    "adata.obs.drop(['doublet_scores', 'predicted_doublets'], axis=1, inplace=True)"
   ]
  },
  {
   "cell_type": "code",
   "execution_count": 51,
   "metadata": {},
   "outputs": [
    {
     "data": {
      "text/html": [
       "<div>\n",
       "<style scoped>\n",
       "    .dataframe tbody tr th:only-of-type {\n",
       "        vertical-align: middle;\n",
       "    }\n",
       "\n",
       "    .dataframe tbody tr th {\n",
       "        vertical-align: top;\n",
       "    }\n",
       "\n",
       "    .dataframe thead th {\n",
       "        text-align: right;\n",
       "    }\n",
       "</style>\n",
       "<table border=\"1\" class=\"dataframe\">\n",
       "  <thead>\n",
       "    <tr style=\"text-align: right;\">\n",
       "      <th></th>\n",
       "      <th>batch</th>\n",
       "      <th>n_genes_by_counts</th>\n",
       "      <th>total_counts</th>\n",
       "    </tr>\n",
       "  </thead>\n",
       "  <tbody>\n",
       "    <tr>\n",
       "      <th>AAACCCAAGAGAGCCT-1</th>\n",
       "      <td>Col_N_1</td>\n",
       "      <td>689</td>\n",
       "      <td>3664.0</td>\n",
       "    </tr>\n",
       "    <tr>\n",
       "      <th>AAACCCAAGGGTATAT-1</th>\n",
       "      <td>Col_N_1</td>\n",
       "      <td>66</td>\n",
       "      <td>779.0</td>\n",
       "    </tr>\n",
       "    <tr>\n",
       "      <th>AAACCCAAGTCCCGAC-1</th>\n",
       "      <td>Col_N_1</td>\n",
       "      <td>1811</td>\n",
       "      <td>11293.0</td>\n",
       "    </tr>\n",
       "    <tr>\n",
       "      <th>AAACCCACATTAAGCC-1</th>\n",
       "      <td>Col_N_1</td>\n",
       "      <td>998</td>\n",
       "      <td>2686.0</td>\n",
       "    </tr>\n",
       "    <tr>\n",
       "      <th>AAACCCAGTGTTCCAA-1</th>\n",
       "      <td>Col_N_1</td>\n",
       "      <td>192</td>\n",
       "      <td>741.0</td>\n",
       "    </tr>\n",
       "    <tr>\n",
       "      <th>...</th>\n",
       "      <td>...</td>\n",
       "      <td>...</td>\n",
       "      <td>...</td>\n",
       "    </tr>\n",
       "    <tr>\n",
       "      <th>TTTGTTGAGAGGTTTA-1</th>\n",
       "      <td>Liv_T_12</td>\n",
       "      <td>953</td>\n",
       "      <td>2525.0</td>\n",
       "    </tr>\n",
       "    <tr>\n",
       "      <th>TTTGTTGAGCTACGTT-1</th>\n",
       "      <td>Liv_T_12</td>\n",
       "      <td>305</td>\n",
       "      <td>583.0</td>\n",
       "    </tr>\n",
       "    <tr>\n",
       "      <th>TTTGTTGCACACCTTC-1</th>\n",
       "      <td>Liv_T_12</td>\n",
       "      <td>224</td>\n",
       "      <td>588.0</td>\n",
       "    </tr>\n",
       "    <tr>\n",
       "      <th>TTTGTTGCATATCTGG-1</th>\n",
       "      <td>Liv_T_12</td>\n",
       "      <td>300</td>\n",
       "      <td>840.0</td>\n",
       "    </tr>\n",
       "    <tr>\n",
       "      <th>TTTGTTGGTTTGGCTA-1</th>\n",
       "      <td>Liv_T_12</td>\n",
       "      <td>1061</td>\n",
       "      <td>2860.0</td>\n",
       "    </tr>\n",
       "  </tbody>\n",
       "</table>\n",
       "<p>137384 rows × 3 columns</p>\n",
       "</div>"
      ],
      "text/plain": [
       "                       batch  n_genes_by_counts  total_counts\n",
       "AAACCCAAGAGAGCCT-1   Col_N_1                689        3664.0\n",
       "AAACCCAAGGGTATAT-1   Col_N_1                 66         779.0\n",
       "AAACCCAAGTCCCGAC-1   Col_N_1               1811       11293.0\n",
       "AAACCCACATTAAGCC-1   Col_N_1                998        2686.0\n",
       "AAACCCAGTGTTCCAA-1   Col_N_1                192         741.0\n",
       "...                      ...                ...           ...\n",
       "TTTGTTGAGAGGTTTA-1  Liv_T_12                953        2525.0\n",
       "TTTGTTGAGCTACGTT-1  Liv_T_12                305         583.0\n",
       "TTTGTTGCACACCTTC-1  Liv_T_12                224         588.0\n",
       "TTTGTTGCATATCTGG-1  Liv_T_12                300         840.0\n",
       "TTTGTTGGTTTGGCTA-1  Liv_T_12               1061        2860.0\n",
       "\n",
       "[137384 rows x 3 columns]"
      ]
     },
     "execution_count": 51,
     "metadata": {},
     "output_type": "execute_result"
    }
   ],
   "source": [
    "adata.obs"
   ]
  },
  {
   "cell_type": "code",
   "execution_count": 52,
   "id": "6c3d9dbc",
   "metadata": {},
   "outputs": [],
   "source": [
    "adata.write_h5ad('/Users/xuewei/ZxProjects/CRC/2023_GSE231559/01_preprocessing/write/CRC_00_merge_20231117.h5ad')"
   ]
  },
  {
   "cell_type": "code",
   "execution_count": null,
   "id": "07e7be2d",
   "metadata": {},
   "outputs": [],
   "source": []
  },
  {
   "cell_type": "code",
   "execution_count": null,
   "id": "bbeddbf5",
   "metadata": {},
   "outputs": [],
   "source": []
  }
 ],
 "metadata": {
  "interpreter": {
   "hash": "89088a6ad5c2e467312963d759005fec3622e0e76eff632d757983b49530e7a2"
  },
  "kernelspec": {
   "display_name": "Python 3.9.7 ('base')",
   "language": "python",
   "name": "python3"
  },
  "language_info": {
   "codemirror_mode": {
    "name": "ipython",
    "version": 3
   },
   "file_extension": ".py",
   "mimetype": "text/x-python",
   "name": "python",
   "nbconvert_exporter": "python",
   "pygments_lexer": "ipython3",
   "version": "3.9.7"
  },
  "toc": {
   "base_numbering": 1,
   "nav_menu": {},
   "number_sections": true,
   "sideBar": true,
   "skip_h1_title": false,
   "title_cell": "Table of Contents",
   "title_sidebar": "Contents",
   "toc_cell": false,
   "toc_position": {},
   "toc_section_display": true,
   "toc_window_display": false
  }
 },
 "nbformat": 4,
 "nbformat_minor": 5
}
